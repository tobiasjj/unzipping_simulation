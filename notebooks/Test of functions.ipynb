{
 "cells": [
  {
   "cell_type": "code",
   "execution_count": 2,
   "metadata": {},
   "outputs": [
    {
     "data": {
      "text/html": [
       "<style>.container { width:90% !important; }</style>"
      ],
      "text/plain": [
       "<IPython.core.display.HTML object>"
      ]
     },
     "metadata": {},
     "output_type": "display_data"
    }
   ],
   "source": [
    "import matplotlib\n",
    "matplotlib.use('module://ipympl.backend_nbagg')\n",
    "\n",
    "from matplotlib import pyplot as plt\n",
    "plt.ion()\n",
    "\n",
    "import math\n",
    "import numpy as np\n",
    "import pickle\n",
    "import sys\n",
    "\n",
    "sys.path.append('..')\n",
    "import unzipping_simulation as uzsi\n",
    "from unzipping_simulation import kB\n",
    "\n",
    "sys.path.append('../../../cn_plot_style/')\n",
    "import cn_plot_style as cnps\n",
    "\n",
    "from IPython.core.display import display, HTML\n",
    "display(HTML(\"<style>.container { width:90% !important; }</style>\"))\n",
    "\n",
    "np.set_printoptions(precision=3)"
   ]
  },
  {
   "cell_type": "code",
   "execution_count": 3,
   "metadata": {
    "scrolled": true
   },
   "outputs": [],
   "source": [
    "# Set the parameters of the DNA unzipping construct\n",
    "with open('phage_lambda.fasta') as f:\n",
    "    sequence = ''.join([line.rstrip() for line in f if not line.startswith('>')])\n",
    "bases = sequence[39302:40041]\n",
    "# complementary linker sequence, primer, bases, primer, hairpin (polyT left out)\n",
    "bases = 'GATACGTTCTTACCCATACTCCACCGTTGC' + 'TGTGCCAACA' + 'CATTGC' + bases + 'GCAATG' + 'CAAGCTACTG' + 'CCGGTCGTAT'\n",
    "nbs = 10  # 2 * 5pT\n",
    "nbs_loop = 10  # hairpin with 10 pT loop\n",
    "seg_a = 42588 - 42168 + 1 + 2*(8 + 10)\n",
    "seg_b = 43761 - 42854 + 1 + (6 + 10) + (8 + 10)\n",
    "nbp = seg_a + seg_b  # (1399)\n",
    "\n",
    "# Set the parameters of the optical tweezers setup/assay\n",
    "radius = 410e-9\n",
    "r = radius\n",
    "# distance between surface of the bead and the glass\n",
    "h0 = 320e-9\n",
    "z0 = h0\n",
    "# 3D positioning\n",
    "y0 = 0e-9\n",
    "# A0 = attachment_point(x0, y0=y0, h0=h0, radius=radius)\n",
    "\n",
    "# Stiffness\n",
    "kappa = np.array([0.67058388e-3, 0.59549569e-3, 0.20775878e-3])\n",
    "# Rotation\n",
    "angles_r0 = np.array([100/180*math.pi, 45/180*math.pi])\n",
    "r0_sph = np.array([radius, *angles_r0])\n",
    "# lower values of k_rot decrease forces at the beginning of the unzipping\n",
    "k_rot = np.array([0.1e-12*180/math.pi, 0.02e-12*180/math.pi])\n",
    "#k_rot[0] = 0\n",
    "#k_rot[1] = 0\n",
    "\n",
    "T = 302.2\n",
    "\n",
    "# Set stage displacement to be simulated\n",
    "x0_min = 100e-9\n",
    "x0_max = 1550e-9\n",
    "resolution = 5e-9\n",
    "\n",
    "# Set the boltzmann factor for selection of the probable states\n",
    "# used to determine the simulated forces/unzipped basepairs\n",
    "boltzmann_factor = 1e-5\n",
    "\n",
    "# Set the parameters for the ssDNA model \n",
    "# Elastic modulus S, literature values are\n",
    "# in the range of 0.53 ≤ K ≤ 2.2 nN \n",
    "S = 840e-12\n",
    "# Persistence length 0.75 ≤ L_p ≤ 3.1 nm\n",
    "L_p_ssDNA = 0.797e-9\n",
    "# Contour length per base 0.43 ≤ L_0 ≤ 0.66 nm/base\n",
    "# higher values stretch the unzipping curve in x\n",
    "# The influence of z increases for higher numbers of unzipped basepairs\n",
    "# (-> longer ssDNA -> more influence on curve)\n",
    "z = 0.568e-9\n",
    "\n",
    "# Set the parameters for the dsDNA model\n",
    "pitch = 0.338e-9\n",
    "L_p_dsDNA = 50e-9\n",
    "\n",
    "# Use Nearest neighbour base-pairs for calculation of the unpairing energies?\n",
    "NNBP = True\n",
    "# Set the concentration of monovalent cations\n",
    "c = 50e-3"
   ]
  },
  {
   "cell_type": "code",
   "execution_count": 10,
   "metadata": {},
   "outputs": [
    {
     "data": {
      "text/plain": [
       "array([-0.  , -0.12])"
      ]
     },
     "execution_count": 10,
     "metadata": {},
     "output_type": "execute_result"
    }
   ],
   "source": [
    "d_angles = np.array([math.pi, math.pi])\n",
    "k_rot = np.array([0, 0.03])\n",
    "uzsi.F_rot(d_angles, k_rot)"
   ]
  },
  {
   "cell_type": "code",
   "execution_count": 2,
   "metadata": {},
   "outputs": [
    {
     "data": {
      "application/vnd.jupyter.widget-view+json": {
       "model_id": "07682c653ec44caebea17d049b1b4e9b",
       "version_major": 2,
       "version_minor": 0
      },
      "text/plain": [
       "FigureCanvasNbAgg()"
      ]
     },
     "metadata": {},
     "output_type": "display_data"
    },
    {
     "ename": "NameError",
     "evalue": "name 'T' is not defined",
     "output_type": "error",
     "traceback": [
      "\u001b[0;31m---------------------------------------------------------------------------\u001b[0m",
      "\u001b[0;31mNameError\u001b[0m                                 Traceback (most recent call last)",
      "\u001b[0;32m<ipython-input-2-f0da800f400e>\u001b[0m in \u001b[0;36m<module>\u001b[0;34m\u001b[0m\n\u001b[1;32m     10\u001b[0m \u001b[0;34m\u001b[0m\u001b[0m\n\u001b[1;32m     11\u001b[0m     \u001b[0max\u001b[0m\u001b[0;34m.\u001b[0m\u001b[0mplot\u001b[0m\u001b[0;34m(\u001b[0m\u001b[0mangles\u001b[0m\u001b[0;34m,\u001b[0m \u001b[0mforce\u001b[0m\u001b[0;34m*\u001b[0m\u001b[0;36m1e12\u001b[0m\u001b[0;34m,\u001b[0m \u001b[0;34m'c'\u001b[0m\u001b[0;34m,\u001b[0m \u001b[0mlabel\u001b[0m\u001b[0;34m=\u001b[0m\u001b[0;34m'Force'\u001b[0m\u001b[0;34m)\u001b[0m\u001b[0;34m\u001b[0m\u001b[0;34m\u001b[0m\u001b[0m\n\u001b[0;32m---> 12\u001b[0;31m     \u001b[0max2\u001b[0m\u001b[0;34m.\u001b[0m\u001b[0mplot\u001b[0m\u001b[0;34m(\u001b[0m\u001b[0mangles\u001b[0m\u001b[0;34m,\u001b[0m \u001b[0menergy\u001b[0m\u001b[0;34m/\u001b[0m\u001b[0;34m(\u001b[0m\u001b[0mkB\u001b[0m\u001b[0;34m*\u001b[0m\u001b[0mT\u001b[0m\u001b[0;34m)\u001b[0m\u001b[0;34m,\u001b[0m \u001b[0;34m'm'\u001b[0m\u001b[0;34m,\u001b[0m \u001b[0mlabel\u001b[0m\u001b[0;34m=\u001b[0m\u001b[0;34m'Energy'\u001b[0m\u001b[0;34m)\u001b[0m\u001b[0;34m\u001b[0m\u001b[0;34m\u001b[0m\u001b[0m\n\u001b[0m\u001b[1;32m     13\u001b[0m     \u001b[0;31m#plt.legend()\u001b[0m\u001b[0;34m\u001b[0m\u001b[0;34m\u001b[0m\u001b[0;34m\u001b[0m\u001b[0m\n\u001b[1;32m     14\u001b[0m \u001b[0;34m\u001b[0m\u001b[0m\n",
      "\u001b[0;31mNameError\u001b[0m: name 'T' is not defined"
     ]
    }
   ],
   "source": [
    "angles = np.linspace(-90, 90, 181)\n",
    "force = uzsi.F_rot(angles*math.pi/180, 0.1e-12*180/math.pi)\n",
    "energy = uzsi.E_rot(angles*math.pi/180, 0.1e-12*180/math.pi, 410e-9)\n",
    "energy_pedaci = uzsi.E_rot(angles*math.pi/180, 0.1e-12*180/math.pi, 410e-9, shifted=False)\n",
    "\n",
    "with cnps.cn_plot(context='notebook', dark=False, usetex=False) as cnp:\n",
    "    fig, ax = plt.subplots()\n",
    "    ax2 = cnps.second_ax(fig=fig, link_ax=ax)\n",
    "    ax2.xaxis.set_visible(False)\n",
    "\n",
    "    ax.plot(angles, force*1e12, 'c', label='Force')\n",
    "    ax2.plot(angles, energy/(kB*T), 'm', label='Energy')\n",
    "    #plt.legend()\n",
    "\n",
    "    #fig.suptitle(r'Sphere rotated out of its equilibrium by angle $\\Delta\\theta$')\n",
    "    #ax.set_title('Force and energy of a ')\n",
    "    ax.set_xlabel(r'Angle $\\Delta\\theta$ (°)')\n",
    "    ax.set_ylabel('Force (pN)')\n",
    "    ax2.set_ylabel('Energy (kB*T)')\n",
    "    #fig.savefig('Force_and_energy_orig.png')"
   ]
  },
  {
   "cell_type": "code",
   "execution_count": 11,
   "metadata": {
    "scrolled": true
   },
   "outputs": [
    {
     "data": {
      "application/vnd.jupyter.widget-view+json": {
       "model_id": "",
       "version_major": 2,
       "version_minor": 0
      },
      "text/plain": [
       "FigureCanvasNbAgg()"
      ]
     },
     "metadata": {},
     "output_type": "display_data"
    },
    {
     "data": {
      "text/plain": [
       "<__main__.Arrow3D at 0x7f9f53e31ef0>"
      ]
     },
     "execution_count": 11,
     "metadata": {},
     "output_type": "execute_result"
    }
   ],
   "source": [
    "# Calculate rotational force based on difference of r0 and r\n",
    "# and plot it as tangent at the end of r\n",
    "r0_theta = 180*math.pi/180\n",
    "r0_phi = 0*math.pi/180\n",
    "r_theta = 135*math.pi/180\n",
    "r_phi = 0*math.pi/180\n",
    "\n",
    "_k_rot = np.array([0.1e-12*180/math.pi, 0.1e-12*180/math.pi])\n",
    "\n",
    "d_theta = r0_theta - r_theta\n",
    "d_phi = r0_phi - r_phi\n",
    "d_angles = np.array([d_theta, d_phi])\n",
    "\n",
    "r0 = uzsi.sph2cart(radius*1e9, r0_theta, r0_phi)\n",
    "r = uzsi.sph2cart(radius*1e9, r_theta, r_phi)\n",
    "\n",
    "f_bead_rot_mag = uzsi.F_rot(d_angles, _k_rot)\n",
    "f_bead_rot_cmp = np.r_[0, f_bead_rot_mag*1e14]\n",
    "f_bead_rot = uzsi.coord_sph2cart(r_theta, r_phi, f_bead_rot_cmp, 0)\n",
    "\n",
    "from mpl_toolkits.mplot3d import Axes3D\n",
    "from matplotlib.patches import FancyArrowPatch\n",
    "from mpl_toolkits.mplot3d import proj3d\n",
    "\n",
    "class Arrow3D(FancyArrowPatch):\n",
    "    def __init__(self, xs, ys, zs, *args, **kwargs):\n",
    "        FancyArrowPatch.__init__(self, (0,0), (0,0), *args, **kwargs)\n",
    "        self._verts3d = xs, ys, zs\n",
    "\n",
    "    def draw(self, renderer):\n",
    "        xs3d, ys3d, zs3d = self._verts3d\n",
    "        xs, ys, zs = proj3d.proj_transform(xs3d, ys3d, zs3d, renderer.M)\n",
    "        self.set_positions((xs[0],ys[0]),(xs[1],ys[1]))\n",
    "        FancyArrowPatch.draw(self, renderer)\n",
    "\n",
    "fig = plt.figure()\n",
    "ax = plt.subplot(111, projection='3d')\n",
    "\n",
    "r0_arrow = np.c_[np.array([0,0,0]), r0]\n",
    "r_arrow = np.c_[np.array([0,0,0]), r]\n",
    "f_bead_rot_arrow = np.c_[r_arrow[:,1], r_arrow[:,1] + f_bead_rot]\n",
    "f_bead_rot_arrow_neg = np.c_[r_arrow[:,1], r_arrow[:,1] - f_bead_rot]\n",
    "\n",
    "# Plot scatter of points\n",
    "ax.plot(*r0_arrow, lw=0)\n",
    "ax.plot(*r_arrow, lw=0)\n",
    "ax.plot(*f_bead_rot_arrow, lw=0)\n",
    "ax.plot(*f_bead_rot_arrow_neg, lw=0)\n",
    "_r0 = Arrow3D(*r0_arrow, mutation_scale=50, \n",
    "            lw=5, arrowstyle=\"-|>\", color=\"k\")\n",
    "_r = Arrow3D(*r_arrow, mutation_scale=50, \n",
    "            lw=5, arrowstyle=\"-|>\", color=\"b\")\n",
    "_f_bead = Arrow3D(*f_bead_rot_arrow, mutation_scale=50, \n",
    "            lw=5, arrowstyle=\"-|>\", color=\"r\")\n",
    "\n",
    "_f_bead_rot = Arrow3D(*f_bead_rot_arrow_neg, mutation_scale=50, \n",
    "            lw=5, arrowstyle=\"-|>\", color=\"c\")\n",
    "\n",
    "ax.add_artist(_r0)\n",
    "ax.add_artist(_r)\n",
    "ax.add_artist(_f_bead)\n",
    "ax.add_artist(_f_bead_rot)"
   ]
  },
  {
   "cell_type": "code",
   "execution_count": 14,
   "metadata": {
    "scrolled": true
   },
   "outputs": [
    {
     "data": {
      "application/vnd.jupyter.widget-view+json": {
       "model_id": "",
       "version_major": 2,
       "version_minor": 0
      },
      "text/plain": [
       "FigureCanvasNbAgg()"
      ]
     },
     "metadata": {},
     "output_type": "display_data"
    },
    {
     "data": {
      "text/plain": [
       "Text(0, 0.5, 'Angle between vectors')"
      ]
     },
     "execution_count": 14,
     "metadata": {},
     "output_type": "execute_result"
    }
   ],
   "source": [
    "plt.close('all')\n",
    "fig, ax = plt.subplots()\n",
    "theta = np.linspace(-math.pi / 2, math.pi / 2, 1000)\n",
    "phi = np.linspace(-math.pi / 2, math.pi / 2, 1000)\n",
    "\n",
    "b = np.array(uzsi.sph2cart(1, - math.pi/2, math.pi / 4))\n",
    "\n",
    "# theta\n",
    "angle_vectors = np.array([uzsi.angle(np.array(uzsi.sph2cart(1, t, 0)), b) for t in theta])**2\n",
    "ax.plot(theta*180/math.pi, angle_vectors*180/math.pi)\n",
    "# phi\n",
    "angle_vectors = np.array([uzsi.angle(np.array(uzsi.sph2cart(1, -math.pi/2, p)), b) for p in phi])**2\n",
    "ax.plot(phi*180/math.pi, angle_vectors*180/math.pi)\n",
    "\n",
    "ax.set_xlabel('Angle theta of vector a')\n",
    "ax.set_ylabel('Angle between vectors')"
   ]
  },
  {
   "cell_type": "code",
   "execution_count": 17,
   "metadata": {
    "scrolled": true
   },
   "outputs": [
    {
     "name": "stdout",
     "output_type": "stream",
     "text": [
      "Round 1\n",
      "dna: 455.449 nm, r: 410.000 nm, c: 841.996 nm\n",
      "a_dna: [ 37.007 180.   ]°, a_r: [121.451  21.995]°, a_c: [  46.683 -167.653]°, d_a_c_r_opp: [ 11.865 369.648]°, a_dna-r:153.22°\n",
      "f_bead: 95.886 pN, f_bead_rot: 4.505 pN, f_cnstr_rot:4.505 pN, f_dna_total: 99.829 pN\n",
      "\n",
      "Round 2\n",
      "dna: 455.449 nm, r: 410.000 nm, c: 834.504 nm\n",
      "a_dna: [ 27.525 167.223]°, a_r: [126.974  15.295]°, a_c: [  38.785 -175.627]°, d_a_c_r_opp: [ 14.24  370.922]°, a_dna-r:149.22°\n",
      "f_bead: 29.509 pN, f_bead_rot: 5.117 pN, f_cnstr_rot:5.117 pN, f_dna_total: 33.598 pN\n",
      "\n",
      "Round 3\n",
      "dna: 455.449 nm, r: 410.000 nm, c: 832.830 nm\n",
      "a_dna: [ 25.972 162.265]°, a_r: [128.023  12.552]°, a_c: [  37.356 -178.931]°, d_a_c_r_opp: [ 14.621 371.482]°, a_dna-r:148.39°\n",
      "f_bead: 22.511 pN, f_bead_rot: 5.241 pN, f_cnstr_rot:5.241 pN, f_dna_total: 24.340 pN\n",
      "\n",
      "Round 4\n",
      "dna: 455.449 nm, r: 410.000 nm, c: 832.493 nm\n",
      "a_dna: [ 25.862 160.558]°, a_r: [128.139  11.437]°, a_c: [ 37.208 179.752]°, d_a_c_r_opp: [14.654 11.686]°, a_dna-r:148.23°\n",
      "f_bead: 22.654 pN, f_bead_rot: 5.265 pN, f_cnstr_rot:5.265 pN, f_dna_total: 23.472 pN\n",
      "\n",
      "Round 5\n",
      "dna: 455.449 nm, r: 410.000 nm, c: 832.449 nm\n",
      "a_dna: [ 25.905 160.154]°, a_r: [128.125  11.143]°, a_c: [ 37.229 179.406]°, d_a_c_r_opp: [14.645 11.736]°, a_dna-r:148.21°\n",
      "f_bead: 22.752 pN, f_bead_rot: 5.268 pN, f_cnstr_rot:5.268 pN, f_dna_total: 23.367 pN\n",
      "\n",
      "Round 6\n",
      "dna: 455.449 nm, r: 410.000 nm, c: 832.450 nm\n",
      "a_dna: [ 25.928 160.093]°, a_r: [128.113  11.091]°, a_c: [ 37.246 179.346]°, d_a_c_r_opp: [14.641 11.745]°, a_dna-r:148.21°\n",
      "f_bead: 22.718 pN, f_bead_rot: 5.268 pN, f_cnstr_rot:5.268 pN, f_dna_total: 23.314 pN\n",
      "\n",
      "Round 7\n",
      "dna: 455.449 nm, r: 410.000 nm, c: 832.453 nm\n",
      "a_dna: [ 25.934 160.091]°, a_r: [128.11   11.087]°, a_c: [ 37.251 179.342]°, d_a_c_r_opp: [14.639 11.746]°, a_dna-r:148.21°\n",
      "f_bead: 22.695 pN, f_bead_rot: 5.268 pN, f_cnstr_rot:5.268 pN, f_dna_total: 23.295 pN\n",
      "\n",
      "Round 8\n",
      "dna: 455.449 nm, r: 410.000 nm, c: 832.454 nm\n",
      "a_dna: [ 25.936 160.094]°, a_r: [128.109  11.089]°, a_c: [ 37.253 179.343]°, d_a_c_r_opp: [14.639 11.746]°, a_dna-r:148.21°\n",
      "f_bead: 22.687 pN, f_bead_rot: 5.268 pN, f_cnstr_rot:5.268 pN, f_dna_total: 23.290 pN\n",
      "\n",
      "Round 9\n",
      "dna: 455.449 nm, r: 410.000 nm, c: 832.455 nm\n",
      "a_dna: [ 25.936 160.095]°, a_r: [128.109  11.09 ]°, a_c: [ 37.253 179.344]°, d_a_c_r_opp: [14.639 11.745]°, a_dna-r:148.21°\n",
      "f_bead: 22.686 pN, f_bead_rot: 5.268 pN, f_cnstr_rot:5.268 pN, f_dna_total: 23.289 pN\n",
      "\n",
      "DNA force: 23.289 pN, displacement: [ 26.121   5.768 -67.389] nm\n"
     ]
    }
   ],
   "source": [
    "#x0 = -745.369e-9\n",
    "x0 = 530e-9\n",
    "A0 = uzsi.attachment_point(x0=x0, y0=y0, h0=h0, radius=radius)\n",
    "\n",
    "f_dna = 10e-12\n",
    "x_ss = uzsi.ext_ssDNA(f_dna, nbs=nbs, S=S, L_p=L_p_ssDNA, z=z, T=T)\n",
    "x_ds = uzsi.ext_dsDNA_wlc(f_dna, nbp=nbp, pitch=pitch, L_p=L_p_dsDNA, T=T)\n",
    "\n",
    "f, d, d_angles, ext_app = uzsi.F_construct_3D(A0, x_ss=x_ss, x_ds=x_ds, f_dna=f_dna,\n",
    "                                              r0_sph=r0_sph, kappa=kappa, k_rot=k_rot,\n",
    "                                              verbose=True, deep_verbose=False, print_result=True)\n",
    "print('DNA force: {:.3f} pN, displacement: {} nm'.format(f*1e12, d*1e9))"
   ]
  },
  {
   "cell_type": "code",
   "execution_count": 23,
   "metadata": {
    "scrolled": true
   },
   "outputs": [
    {
     "data": {
      "application/vnd.jupyter.widget-view+json": {
       "model_id": "1132b9128b044b8c83fb60e953da735b",
       "version_major": 2,
       "version_minor": 0
      },
      "text/plain": [
       "FigureCanvasNbAgg()"
      ]
     },
     "metadata": {},
     "output_type": "display_data"
    },
    {
     "data": {
      "text/plain": [
       "[<matplotlib.lines.Line2D at 0x7f9f53f265c0>]"
      ]
     },
     "execution_count": 23,
     "metadata": {},
     "output_type": "execute_result"
    }
   ],
   "source": [
    "x0 = 0e-9\n",
    "\n",
    "f_dna = 10e-12\n",
    "x_ss = uzsi.ext_ssDNA(f_dna, nbs=nbs, S=S, L_p=L_p_ssDNA, z=z, T=T)\n",
    "x_ds = uzsi.ext_dsDNA_wlc(f_dna, nbp=nbp, pitch=pitch, L_p=L_p_dsDNA, T=T)\n",
    "\n",
    "ANGLES_C = []\n",
    "ANGLES_R = []\n",
    "F_BEAD = []\n",
    "F_DNA = []\n",
    "D_BEAD = []\n",
    "\n",
    "X0 = np.linspace(-800e-9, 800e-9, 101)\n",
    "\n",
    "for x0 in X0:\n",
    "\n",
    "    A0 = uzsi.attachment_point(x0=x0, y0=y0, h0=h0, radius=radius)\n",
    "\n",
    "    f_dna_total, f_bead, d, angles_c, angles_r = uzsi.F_construct_3D(A0, x_ss=x_ss, x_ds=x_ds, f_dna=f_dna,\n",
    "                                                                     r0_sph=r0_sph, kappa=kappa, k_rot=k_rot,\n",
    "                                                                     verbose=False, return_plus=True)\n",
    "    ANGLES_C.append(angles_c)\n",
    "    ANGLES_R.append(angles_r)\n",
    "    F_BEAD.append(f_bead)\n",
    "    F_DNA.append(f_dna_total)\n",
    "    D_BEAD.append(d)\n",
    "\n",
    "#print('e: {} nm, l: {:.2f} nm\\nr: {} nm, r: {:.2f} nm \\nd: {} nm \\nf_bead: {} pN, f: {:.2f} pN'.format(e*1e9, np.linalg.norm(e)*1e9,\n",
    "#                                                                                           R*1e9, np.linalg.norm(R)*1e9,\n",
    "#                                                                                           d*1e9,\n",
    "#                                                                                           f_bead*1e12, np.linalg.norm(f_bead)*1e12))\n",
    "theta_c = np.array([angle[0] for angle in ANGLES_C])\n",
    "phi_c = np.array([angle[1] for angle in ANGLES_C])\n",
    "theta_r = np.array([angle[0] for angle in ANGLES_R])\n",
    "phi_r = np.array([angle[1] for angle in ANGLES_R])\n",
    "#INIT_R = np.c_[theta_r, phi_r]\n",
    "#theta_r_min = np.array([min(init_r[0], r0_sph[1]) for init_r in INIT_R])\n",
    "#theta_r_max =  np.array([max(init_r[0], r0_sph[1]) for init_r in INIT_R])\n",
    "#phi_r_min =  np.array([min(init_r[1], r0_sph[2]) for init_r in INIT_R])\n",
    "#phi_r_max =  np.array([max(init_r[1], r0_sph[2]) for init_r in INIT_R])\n",
    "f_bead = np.array([np.linalg.norm(f) for f in F_BEAD])\n",
    "f_dna = np.array([np.linalg.norm(f) for f in F_DNA])\n",
    "f = np.array([np.linalg.norm(f) for f in F_BEAD])\n",
    "d_bead = np.array([d for d in D_BEAD])\n",
    "\n",
    "plt.close('all')\n",
    "fig, ax = plt.subplots()\n",
    "\n",
    "ax.set_ylabel('Force (pN)')\n",
    "#ax.plot(X0*1e9, f_bead*1e12, '*')\n",
    "ax.plot(X0*1e9, f_bead*1e12, 'm')\n",
    "ax.plot(X0*1e9, f_dna*1e12, 'c')\n",
    "\n",
    "ax2 = plt.twinx(ax)\n",
    "ax2.set_ylabel('Angle (°)')\n",
    "ax2.plot(X0*1e9, theta_c*180/math.pi)\n",
    "ax2.plot(X0*1e9, theta_r*180/math.pi, 'o')\n",
    "ax2.plot(X0*1e9, phi_c*180/math.pi)\n",
    "ax2.plot(X0*1e9, phi_r*180/math.pi, 'o')\n",
    "\n",
    "#ax2.plot(X0*1e9, d_bead*1e9)\n",
    "#ax.plot(X0*1e9, theta_r_min*180/math.pi, 'b,')\n",
    "#ax.plot(X0*1e9, theta_r_max*180/math.pi, 'b,')\n",
    "#ax.plot(X0*1e9, phi_r_min*180/math.pi, '.')\n",
    "#ax.plot(X0*1e9, phi_r_max*180/math.pi, '.')"
   ]
  },
  {
   "cell_type": "code",
   "execution_count": 26,
   "metadata": {
    "scrolled": true
   },
   "outputs": [
    {
     "name": "stdout",
     "output_type": "stream",
     "text": [
      "DNA force: 7.902 pN, displacement: [0. 0. 0.] nm, rotation: [0. 0.] °\n",
      "          r      r_rot       r_2d\n",
      "nuz:    180       464        180\n",
      "f_dna: 15.247 pN 7.367 pN 15.247 pN\n",
      "f_lev: 15.247 pN 0.000 pN 15.247 pN\n"
     ]
    }
   ],
   "source": [
    "x0 = -806e-9\n",
    "\n",
    "A0 = uzsi.attachment_point(x0, y0=y0, h0=h0, radius=radius)\n",
    "\n",
    "nuz = uzsi.approx_eq_nuz_rot(A0, bases=bases, nbs=nbs, nbp=nbp,\n",
    "                             r0_sph=r0_sph, kappa=kappa, k_rot=k_rot,\n",
    "                             S=S, L_p_ssDNA=L_p_ssDNA, z=z,\n",
    "                             pitch=pitch, L_p_dsDNA=L_p_dsDNA,\n",
    "                             NNBP=NNBP, c=c, T=T)\n",
    "\n",
    "f, d, d_angles, ext_app = uzsi.F_0_3D(A0, nbs=nbs+nuz*2, S=S, L_p_ssDNA=L_p_ssDNA, z=z, T=T,\n",
    "                                      nbp=nbp, pitch=pitch, L_p_dsDNA=L_p_dsDNA,\n",
    "                                      r0_sph=r0_sph, kappa=kappa, k_rot=k_rot)\n",
    "print('DNA force: {:.3f} pN, displacement: {} nm, rotation: {} °'.format(f*1e12, d*1e9, d_angles*180/math.pi))\n",
    "\n",
    "#uzsi.equilibrium_xfe0_rot(A0, bases=bases, nuz=nuz, nbs=nbs, nbp=nbp, nbs_loop=nbs_loop,\n",
    "#                         r0_sph=r0_sph, kappa=kappa, k_rot=k_rot,\n",
    "#                         S=S, L_p_ssDNA=L_p_ssDNA, z=z,\n",
    "#                         pitch=pitch, L_p_dsDNA=L_p_dsDNA,\n",
    "#                         NNBP=NNBP, c=c, T=T)\n",
    "\n",
    "\n",
    "r_2d = uzsi.xfe0_fast_nuz(abs(x0), bases=bases, nbs=nbs, nbp=nbp, nbs_loop=nbs_loop,\n",
    "                          r=radius, z0=h0, kappa=kappa[[0,2]], \n",
    "                          S=S, L_p_ssDNA=L_p_ssDNA, z=z,\n",
    "                          pitch=pitch, L_p_dsDNA=L_p_dsDNA,\n",
    "                          NNBP=NNBP, c=c, T=T)\n",
    "r = uzsi.xfe0_fast_nuz_rot(A0, bases=bases, nbs=nbs, nbp=nbp, nbs_loop=nbs_loop,\n",
    "                           r0_sph=r0_sph, kappa=kappa, k_rot=None,\n",
    "                           S=S, L_p_ssDNA=L_p_ssDNA, z=z,\n",
    "                           pitch=pitch, L_p_dsDNA=L_p_dsDNA,\n",
    "                           NNBP=NNBP, c=c, T=T)\n",
    "r_rot = uzsi.xfe0_fast_nuz_rot(A0, bases=bases, nbs=nbs, nbp=nbp, nbs_loop=nbs_loop,\n",
    "                               r0_sph=r0_sph, kappa=kappa, k_rot=k_rot,\n",
    "                               S=S, L_p_ssDNA=L_p_ssDNA, z=z,\n",
    "                               pitch=pitch, L_p_dsDNA=L_p_dsDNA,\n",
    "                               NNBP=NNBP, c=c, T=T)\n",
    "\n",
    "print('          r      r_rot       r_2d')\n",
    "print('nuz: {:6.0f} {:9.0f}  {:9.0f}\\nf_dna: {:.3f} pN {:.3f} pN {:.3f} pN\\nf_lev: {:.3f} pN {:.3f} pN {:.3f} pN'.format(\n",
    "    round(float(r['NUZ0_avg'])), round(float(r_rot['NUZ0_avg'])), round(float(r_2d['NUZ0_avg'])),\n",
    "    float(r['F0_avg']*1e12), float(r_rot['F0_avg']*1e12), float(r_2d['F0_avg']*1e12),\n",
    "    float(np.sqrt(np.sum((r['D0_avg']*kappa)**2))*1e12), float(np.sqrt(np.sum((r_rot['D0_avg']*kappa)**2))*1e12), float(np.sqrt(np.sum((r_2d['D0_avg']*kappa[[0,2]])**2))*1e12), \n",
    "    ))"
   ]
  },
  {
   "cell_type": "code",
   "execution_count": 3,
   "metadata": {},
   "outputs": [
    {
     "data": {
      "application/vnd.jupyter.widget-view+json": {
       "model_id": "2cefac7dee81480a93efc5fe7d08e8ed",
       "version_major": 2,
       "version_minor": 0
      },
      "text/plain": [
       "FigureCanvasNbAgg()"
      ]
     },
     "metadata": {},
     "output_type": "display_data"
    }
   ],
   "source": [
    "#plt.close('all')\n",
    "# Plot energy landscape\n",
    "x0 = 400e-9 + radius*0.817 - h0*0.17 - 57e-9\n",
    "\n",
    "with cnps.cn_plot(context='notebook'):\n",
    "    fig, ax, ax2 = uzsi.plot_unzip_energy_rot(x0, y0=y0, h0=h0, bases=bases, nbs=nbs, nbp=nbp, nbs_loop=nbs_loop,\n",
    "                                              radius=radius, angles_r0=angles_r0, kappa=kappa, k_rot=k_rot,\n",
    "                                              S=S, L_p_ssDNA=L_p_ssDNA, z=z,\n",
    "                                              pitch=pitch, L_p_dsDNA=L_p_dsDNA,\n",
    "                                              NNBP=NNBP, c=c, T=T,\n",
    "                                              boltzmann_factor=boltzmann_factor)\n",
    "#fig.savefig('Energy_number_unzipped_basepairs.png')"
   ]
  }
 ],
 "metadata": {
  "kernelspec": {
   "display_name": "Python 3",
   "language": "python",
   "name": "python3"
  },
  "language_info": {
   "codemirror_mode": {
    "name": "ipython",
    "version": 3
   },
   "file_extension": ".py",
   "mimetype": "text/x-python",
   "name": "python",
   "nbconvert_exporter": "python",
   "pygments_lexer": "ipython3",
   "version": "3.7.2+"
  }
 },
 "nbformat": 4,
 "nbformat_minor": 2
}
