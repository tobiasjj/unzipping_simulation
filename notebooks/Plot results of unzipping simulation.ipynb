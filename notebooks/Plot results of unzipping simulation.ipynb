{
 "cells": [
  {
   "cell_type": "code",
   "execution_count": 4,
   "metadata": {},
   "outputs": [
    {
     "name": "stdout",
     "output_type": "stream",
     "text": [
      "PyOTI - the investigator package of the PyOTIC software\n",
      "Version: 0.12.14\n",
      "\n",
      "The actual working path is: '/nfs/home/tobiasj/ZMBP/jupyter/development/unzipping_simulation/notebooks'\n"
     ]
    },
    {
     "data": {
      "text/html": [
       "<style>.container { width:90% !important; }</style>"
      ],
      "text/plain": [
       "<IPython.core.display.HTML object>"
      ]
     },
     "metadata": {},
     "output_type": "display_data"
    }
   ],
   "source": [
    "import matplotlib\n",
    "matplotlib.use('module://ipympl.backend_nbagg')\n",
    "\n",
    "# Import os to easily join names of filepaths\n",
    "import os\n",
    "\n",
    "# Add the path of the PyOTIC Software to the system path\n",
    "# Adjust this path to where the PyOTIC Software package is located'\n",
    "import sys\n",
    "#sys.path.insert(0, '/srv/software-repo/pyotic/')\n",
    "sys.path.insert(0, '/nfs/home/tobiasj/jupyter/development/PyOTIC_github')\n",
    "\n",
    "#Load investigator package\n",
    "import pyoti\n",
    "pyoti.info()\n",
    "\n",
    "sys.path.append('/nfs/home/tobiasj/ZMBP/jupyter/development')\n",
    "from tj_functions.force_extension import show_force_extension, binned_force_extension, fbnl_force_extension, plot_angle_extension\n",
    "\n",
    "sys.path.append('/nfs/home/tobiasj/jupyter/development/tj_scripts/cn_plot_style')\n",
    "import cn_plot_style as cnps\n",
    "\n",
    "from matplotlib import pyplot as plt\n",
    "from pyoti.evaluate import dna\n",
    "\n",
    "#Create an experiment\n",
    "experiment = pyoti.create_experiment()\n",
    "\n",
    "from IPython.core.display import display, HTML\n",
    "display(HTML(\"<style>.container { width:90% !important; }</style>\"))\n",
    "\n",
    "import math\n",
    "import numpy as np\n",
    "import pickle\n",
    "\n",
    "sys.path.append('..')\n",
    "import unzipping_simulation as uzsi\n",
    "kB = uzsi.kB"
   ]
  },
  {
   "cell_type": "code",
   "execution_count": 2,
   "metadata": {},
   "outputs": [],
   "source": [
    "# Convert old simulations to new ones\n",
    "_E_ext_ssDNA = uzsi.E_ext_ssDNA\n",
    "EXT_DSDNA = uzsi.EXT_DSDNA\n",
    "_ext_dsDNA_wlc = uzsi.ext_dsDNA_wlc\n",
    "unboundfunction = uzsi.unboundfunction\n",
    "\n",
    "with open('results','rb') as f:\n",
    "    simulations = pickle.load(f)\n",
    "\n",
    "for old_key in list(simulations.keys()):\n",
    "    del simulations[old_key]['E_ext_ssDNA']\n",
    "    del simulations[old_key]['ext_dsDNA_wlc']\n",
    "    s = simulations[old_key]['settings']\n",
    "    new_key = uzsi.get_key(\n",
    "        s['x0_min'],\n",
    "        s['x0_max'],\n",
    "        s['y0'],\n",
    "        s['h0'],\n",
    "        s['resolution'],\n",
    "        s['bases'],\n",
    "        s['nbs'],\n",
    "        s['nbp'],\n",
    "        s['nbs_loop'],\n",
    "        s['radius'],\n",
    "        s['angles_r0'],\n",
    "        s['kappa'],\n",
    "        s['k_rot'],\n",
    "        s['S'],\n",
    "        s['L_p_ssDNA'],\n",
    "        s['z'],\n",
    "        s['pitch'],\n",
    "        s['L_p_dsDNA'],\n",
    "        s['NNBP'],\n",
    "        s['c'],\n",
    "        s['e_loop'],\n",
    "        s['T'],\n",
    "        s['boltzmann_factor'])\n",
    "    simulations[new_key] = simulations[old_key]\n",
    "    simulations.pop(old_key)\n",
    "\n",
    "#with open('simulations.p','wb') as f:\n",
    "#    pickle.dump(simulations, f)"
   ]
  },
  {
   "cell_type": "code",
   "execution_count": 28,
   "metadata": {},
   "outputs": [
    {
     "data": {
      "text/plain": [
       "[['1544d1fa0d5e6c3c86854bcff2cf5548', 1.57e-07, array([0.00068, 0.00014])]]"
      ]
     },
     "execution_count": 28,
     "metadata": {},
     "output_type": "execute_result"
    }
   ],
   "source": [
    "# Load simulations\n",
    "with open('simulations.p','rb') as f:\n",
    "    simulations = pickle.load(f)\n",
    "\n",
    "[[key, simulation['settings']['h0'], simulation['settings']['kappa']] for key, simulation in simulations.items()]"
   ]
  },
  {
   "cell_type": "code",
   "execution_count": 29,
   "metadata": {},
   "outputs": [
    {
     "data": {
      "text/plain": [
       "{'x0_min': 1e-07,\n",
       " 'x0_max': 1.7e-06,\n",
       " 'y0': 0.0,\n",
       " 'h0': 1.57e-07,\n",
       " 'resolution': 2e-09,\n",
       " 'bases': 'GATACGTTCTTACCCATACTCCACCGTTGCTGTGCCAACACATTGCgactatcgcaccatcagccagaaaaccgaattttgctgggtgggctaacgatatccgcctgatgcgtgaacgtgacggacgtaaccaccgcgacatgtgtgtgctgttccgctgggcatgccaggacaacttctggtccggtaacgtgctgagcccggccaaactccgcgataagtggacccaactcgaaatcaaccgtaacaagcaacaggcaggcgtgacagccagcaaaccaaaactcgacctgacaaacacagactggatttacggggtggatctatgaaaaacatcgccgcacagatggttaactttgaccgtgagcagatgcgtcggatcgccaacaacatgccggaacagtacgacgaaaagccgcaggtacagcaggtagcgcagatcatcaacggtgtgttcagccagttactggcaactttcccggcgagcctggctaaccgtgaccagaacgaagtgaacgaaatccgtcgccagtgggttctggcttttcgggaaaacgggatcaccacgatggaacaggttaacgcaggaatgcgcgtagcccgtcggcagaatcgaccatttctgccatcacccgggcagtttgttgcatggtgccgggaagaagcatccgttaccgccggactgccaaacgtcagcgagctggttgatatggtttacgagtattgccggaagcgaggcctgtatccggatgcggagtcttatccgtggaaatcaaacgcgcactGCAATGCAAGCTACTGCCGGTCGTAT',\n",
       " 'nbs': 10,\n",
       " 'nbp': 1399,\n",
       " 'nbs_loop': 10,\n",
       " 'radius': 5.01e-07,\n",
       " 'angles_r0': None,\n",
       " 'kappa': array([0.00068, 0.00014]),\n",
       " 'k_rot': None,\n",
       " 'S': 8.4e-10,\n",
       " 'L_p_ssDNA': 7.97e-10,\n",
       " 'z': 5.35e-10,\n",
       " 'pitch': 3.38e-10,\n",
       " 'L_p_dsDNA': 5e-08,\n",
       " 'NNBP': False,\n",
       " 'c': 0.05,\n",
       " 'T': 302.2,\n",
       " 'boltzmann_factor': 1e-05}"
      ]
     },
     "execution_count": 29,
     "metadata": {},
     "output_type": "execute_result"
    }
   ],
   "source": [
    "simulations['1544d1fa0d5e6c3c86854bcff2cf5548']['settings']"
   ]
  },
  {
   "cell_type": "code",
   "execution_count": 30,
   "metadata": {},
   "outputs": [],
   "source": [
    "with open('result.p','wb') as f:\n",
    "    pickle.dump(simulations['1544d1fa0d5e6c3c86854bcff2cf5548'], f)"
   ]
  },
  {
   "cell_type": "code",
   "execution_count": 31,
   "metadata": {},
   "outputs": [
    {
     "name": "stdout",
     "output_type": "stream",
     "text": [
      "Open experiment file:\n",
      "   '/nfs/home/tobiasj/data/ASWAD/unzipping/2018-05-16 - unzipping N50TT20AA0.1BSA/data/B01.fs'\n",
      "Cannot open the experiment file!\n",
      " The database is locked by another process or user.\n",
      " The original error message is: 'Couldn't lock '/nfs/home/tobiasj/data/ASWAD/unzipping/2018-05-16 - unzipping N50TT20AA0.1BSA/data/B01.fs.lock''\n",
      "Experiment is closed!\n"
     ]
    },
    {
     "ename": "AttributeError",
     "evalue": "'NoneType' object has no attribute 'samplingrate'",
     "output_type": "error",
     "traceback": [
      "\u001b[0;31m---------------------------------------------------------------------------\u001b[0m",
      "\u001b[0;31mAttributeError\u001b[0m                            Traceback (most recent call last)",
      "\u001b[0;32m<ipython-input-31-0133da5af3d5>\u001b[0m in \u001b[0;36m<module>\u001b[0;34m\u001b[0m\n\u001b[1;32m     25\u001b[0m \u001b[0;34m\u001b[0m\u001b[0m\n\u001b[1;32m     26\u001b[0m \u001b[0;31m# Choose resolution for tether object\u001b[0m\u001b[0;34m\u001b[0m\u001b[0;34m\u001b[0m\u001b[0;34m\u001b[0m\u001b[0m\n\u001b[0;32m---> 27\u001b[0;31m \u001b[0mresolution_tether\u001b[0m \u001b[0;34m=\u001b[0m \u001b[0mresults_region\u001b[0m\u001b[0;34m.\u001b[0m\u001b[0msamplingrate\u001b[0m \u001b[0;31m# points/s resolution\u001b[0m\u001b[0;34m\u001b[0m\u001b[0;34m\u001b[0m\u001b[0m\n\u001b[0m\u001b[1;32m     28\u001b[0m \u001b[0mresolution_sf\u001b[0m \u001b[0;34m=\u001b[0m \u001b[0;36m1000\u001b[0m\u001b[0;34m\u001b[0m\u001b[0;34m\u001b[0m\u001b[0m\n\u001b[1;32m     29\u001b[0m \u001b[0mtether\u001b[0m \u001b[0;34m=\u001b[0m \u001b[0mpyoti\u001b[0m\u001b[0;34m.\u001b[0m\u001b[0mcreate_tether\u001b[0m\u001b[0;34m(\u001b[0m\u001b[0mregion\u001b[0m\u001b[0;34m=\u001b[0m\u001b[0mresults_region\u001b[0m\u001b[0;34m,\u001b[0m \u001b[0mresolution\u001b[0m\u001b[0;34m=\u001b[0m\u001b[0mresolution_tether\u001b[0m\u001b[0;34m,\u001b[0m \u001b[0mresolution_sf\u001b[0m\u001b[0;34m=\u001b[0m\u001b[0mresolution_sf\u001b[0m\u001b[0;34m)\u001b[0m\u001b[0;34m\u001b[0m\u001b[0;34m\u001b[0m\u001b[0m\n",
      "\u001b[0;31mAttributeError\u001b[0m: 'NoneType' object has no attribute 'samplingrate'"
     ]
    }
   ],
   "source": [
    "# Choose the path, were the experiment should be created (or opened from)\n",
    "#\n",
    "# datadir: The path to where the experiment (and the data) are located\n",
    "# datafile: The name of the file that contains the data. Here it is only used to generate dbfile.\n",
    "#           The data is loaded further down upon creation of a Record.\n",
    "# dbfile: The name of the database file the experiment is saved to (or loaded from).\n",
    "#datadir =  '../../../../data/ASWAD/unzipping/2015-03-12 - unzipping/data/'\n",
    "datadir = '/nfs/home/tobiasj/data/ASWAD/unzipping/2018-05-16 - unzipping N50TT20AA0.1BSA/data/'\n",
    "#datadir =  '../../../../data/ASWAD/unzipping/2017-08-01_03 - unzipping and biotin concentration/0.1 percent - unzipping and jumping in trap, l_2, l_4 plate/data/'\n",
    "#datafile = 'B09.bin'\n",
    "datafile = 'B01.bin'\n",
    "\n",
    "# Select the unzipping number(s)\n",
    "I = [205]\n",
    "sortcolumn = 0  # 0: time, 1: extension\n",
    "resolution = 1000\n",
    "\n",
    "\n",
    "# For the name of the experiment, exchange the extension '.bin' with '.fs'\n",
    "dbfile = os.path.join(datadir, datafile.replace('.bin', '.fs'))\n",
    "\n",
    "# Open the experiment dbfile\n",
    "experiment.open(dbfile)\n",
    "results_region = experiment.view('results')\n",
    "\n",
    "# Choose resolution for tether object\n",
    "resolution_tether = results_region.samplingrate # points/s resolution\n",
    "resolution_sf = 1000\n",
    "tether = pyoti.create_tether(region=results_region, resolution=resolution_tether, resolution_sf=resolution_sf)\n",
    "\n",
    "# Get force extensions from unzipping number(s)\n",
    "x = []\n",
    "F = []\n",
    "FXYZ = []\n",
    "DISTXYZ = []\n",
    "for i in I:\n",
    "    # Get binned force extension\n",
    "    bin_edges, bin_centers, bin_widths, bin_means, bin_stds, bin_Ns \\\n",
    "        = binned_force_extension(tether, i, resolution=resolution, sortcolumn=sortcolumn, extra_traces=['psdXYZ', 'positionXYZ'])\n",
    "    _x = bin_means[0][:,1]\n",
    "    _y = bin_means[0][:,2]\n",
    "    x.append(_x)\n",
    "    F.append(_y)\n",
    "\n",
    "    # Select corresponding bin_means and assign to easy to remember variable names\n",
    "    data = bin_means[0][:,3:]\n",
    "    psdXYZ = data[:, 0:3]\n",
    "    positionXYZ = data[:, 3:6]\n",
    "    positionXY = positionXYZ[:, 0:2]\n",
    "    positionZ = data[:, [5]]\n",
    "\n",
    "    # Calculate 3D force\n",
    "    displacementXYZ \\\n",
    "        = tether.calibration.displacement(psdXYZ, positionZ=positionZ)\n",
    "    distXYZ = pyoti.evaluate.tether.distanceXYZ(tether.calibration, psdXYZ, positionXYZ)  # m\n",
    "    DISTXYZ.append(distXYZ)\n",
    "    dist = pyoti.evaluate.tether.distance(distXYZ, positionXY)\n",
    "    forceXY_Z = tether.calibration.force(displacementXYZ, positionZ=positionZ)\n",
    "    fXYZ = pyoti.evaluate.tether.forceXYZ(tether.calibration, psdXYZ, positionZ)  # N\n",
    "    fXYZ[:,2] *= 0.75\n",
    "    FXYZ.append(fXYZ)\n",
    "\n",
    "experiment.abort()\n",
    "experiment.close()"
   ]
  },
  {
   "cell_type": "code",
   "execution_count": 11,
   "metadata": {},
   "outputs": [
    {
     "data": {
      "application/vnd.jupyter.widget-view+json": {
       "model_id": "941f799917b04458951fa3eaf34f1d46",
       "version_major": 2,
       "version_minor": 0
      },
      "text/plain": [
       "FigureCanvasNbAgg()"
      ]
     },
     "metadata": {},
     "output_type": "display_data"
    },
    {
     "data": {
      "application/vnd.jupyter.widget-view+json": {
       "model_id": "67bcfd8a237642a9b74d4c07e1488cbd",
       "version_major": 2,
       "version_minor": 0
      },
      "text/plain": [
       "FigureCanvasNbAgg()"
      ]
     },
     "metadata": {},
     "output_type": "display_data"
    },
    {
     "data": {
      "application/vnd.jupyter.widget-view+json": {
       "model_id": "6549216200a74fc782d57af4b0c8e4be",
       "version_major": 2,
       "version_minor": 0
      },
      "text/plain": [
       "FigureCanvasNbAgg()"
      ]
     },
     "metadata": {},
     "output_type": "display_data"
    },
    {
     "data": {
      "application/vnd.jupyter.widget-view+json": {
       "model_id": "28a3365380a44a7babf7de11c6b30553",
       "version_major": 2,
       "version_minor": 0
      },
      "text/plain": [
       "FigureCanvasNbAgg()"
      ]
     },
     "metadata": {},
     "output_type": "display_data"
    },
    {
     "data": {
      "application/vnd.jupyter.widget-view+json": {
       "model_id": "213e3dbd73f44485bba0ddcbb03e20ae",
       "version_major": 2,
       "version_minor": 0
      },
      "text/plain": [
       "FigureCanvasNbAgg()"
      ]
     },
     "metadata": {},
     "output_type": "display_data"
    },
    {
     "data": {
      "application/vnd.jupyter.widget-view+json": {
       "model_id": "5bc3585f6d044f87920d9618af9439d1",
       "version_major": 2,
       "version_minor": 0
      },
      "text/plain": [
       "FigureCanvasNbAgg()"
      ]
     },
     "metadata": {},
     "output_type": "display_data"
    },
    {
     "data": {
      "application/vnd.jupyter.widget-view+json": {
       "model_id": "c56c2dce1f584a8ca74186ea40dba435",
       "version_major": 2,
       "version_minor": 0
      },
      "text/plain": [
       "FigureCanvasNbAgg()"
      ]
     },
     "metadata": {},
     "output_type": "display_data"
    },
    {
     "data": {
      "application/vnd.jupyter.widget-view+json": {
       "model_id": "fdbee985020a4dd980b208ac9601def0",
       "version_major": 2,
       "version_minor": 0
      },
      "text/plain": [
       "FigureCanvasNbAgg()"
      ]
     },
     "metadata": {},
     "output_type": "display_data"
    }
   ],
   "source": [
    "plt.close('all')\n",
    "for key, simulation in simulations.items():\n",
    "#for simulation in [simulations['592d5ab2f569ae1753ab5716385abfd2']]:\n",
    "    # scale the measured data\n",
    "    shift_x = 20.0e-9  # m\n",
    "    scale_x = 1.0\n",
    "    shift_y = 0.0e-12  # N\n",
    "    scale_y = 1.0\n",
    "\n",
    "    with cnps.cn_plot(context='presentation', fig_scale=1.0, dark=False) as cnp:\n",
    "        for i in range(len(I)):\n",
    "            fig, axes = uzsi.plot_simulated_force_extension(simulation,\n",
    "                                                            x[i] * scale_x + shift_x,\n",
    "                                                            F[i] * scale_y + shift_y,\n",
    "                                                            np.abs(FXYZ[i]) * scale_y + shift_y,\n",
    "                                                            ylim=(-1, 22))\n",
    "            fig.suptitle('{} {}'.format(key, round(simulation['settings']['k_rot'][0]*180/math.pi*1e12)))\n",
    "            fig.show()"
   ]
  },
  {
   "cell_type": "code",
   "execution_count": 10,
   "metadata": {},
   "outputs": [
    {
     "name": "stderr",
     "output_type": "stream",
     "text": [
      "/usr/local/lib/python3.7/dist-packages/matplotlib/pyplot.py:514: RuntimeWarning: More than 20 figures have been opened. Figures created through the pyplot interface (`matplotlib.pyplot.figure`) are retained until explicitly closed and may consume too much memory. (To control this warning, see the rcParam `figure.max_open_warning`).\n",
      "  max_open_warning, RuntimeWarning)\n"
     ]
    },
    {
     "data": {
      "application/vnd.jupyter.widget-view+json": {
       "model_id": "90a4d67ea9444915bd5b6312a0cf3524",
       "version_major": 2,
       "version_minor": 0
      },
      "text/plain": [
       "FigureCanvasNbAgg()"
      ]
     },
     "metadata": {},
     "output_type": "display_data"
    },
    {
     "name": "stderr",
     "output_type": "stream",
     "text": [
      "/usr/local/lib/python3.7/dist-packages/matplotlib/pyplot.py:514: RuntimeWarning: More than 20 figures have been opened. Figures created through the pyplot interface (`matplotlib.pyplot.figure`) are retained until explicitly closed and may consume too much memory. (To control this warning, see the rcParam `figure.max_open_warning`).\n",
      "  max_open_warning, RuntimeWarning)\n"
     ]
    },
    {
     "data": {
      "application/vnd.jupyter.widget-view+json": {
       "model_id": "0161f5319be142b7ab70b22497af5780",
       "version_major": 2,
       "version_minor": 0
      },
      "text/plain": [
       "FigureCanvasNbAgg()"
      ]
     },
     "metadata": {},
     "output_type": "display_data"
    },
    {
     "data": {
      "text/plain": [
       "Text(0.5, 1.0, 'Phi')"
      ]
     },
     "execution_count": 10,
     "metadata": {},
     "output_type": "execute_result"
    }
   ],
   "source": [
    "#x[0], FXYZ[0]\n",
    "i = 0\n",
    "angles_E = np.array([uzsi.cart2sph(*point)[1:] for point in DISTXYZ[i]])*180/math.pi\n",
    "#angles_E[:,1] -= 90\n",
    "angles_F = np.array([uzsi.cart2sph(*point)[1:] for point in FXYZ[i]])*180/math.pi\n",
    "#angles_F[:,1] -= 90\n",
    "angles_diff = angles_E - angles_F\n",
    "plt.ion()\n",
    "fig, ax = plt.subplots()\n",
    "ax.plot(x[i], angles_E[:,0])\n",
    "ax.plot(x[i], angles_F[:,0])\n",
    "ax.plot(x[i], angles_diff[:,0])\n",
    "ax.set_xlabel('Apparent extension (nm)')\n",
    "ax.set_ylabel('Theta (°)')\n",
    "ax.set_title('Theta')\n",
    "fig, ax = plt.subplots()\n",
    "ax.plot(x[i], angles_E[:,1])\n",
    "ax.plot(x[i], angles_F[:,1])\n",
    "#ax.plot(x[i], angles_diff[:,1])\n",
    "ax.set_xlabel('Apparent extension (nm)')\n",
    "ax.set_ylabel('Phi (°)')\n",
    "ax.set_title('Phi')"
   ]
  }
 ],
 "metadata": {
  "kernelspec": {
   "display_name": "Python 3",
   "language": "python",
   "name": "python3"
  },
  "language_info": {
   "codemirror_mode": {
    "name": "ipython",
    "version": 3
   },
   "file_extension": ".py",
   "mimetype": "text/x-python",
   "name": "python",
   "nbconvert_exporter": "python",
   "pygments_lexer": "ipython3",
   "version": "3.7.3rc1"
  }
 },
 "nbformat": 4,
 "nbformat_minor": 4
}
