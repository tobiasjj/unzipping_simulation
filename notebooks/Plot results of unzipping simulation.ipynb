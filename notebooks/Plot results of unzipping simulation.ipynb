{
 "cells": [
  {
   "cell_type": "code",
   "execution_count": 3,
   "metadata": {},
   "outputs": [
    {
     "data": {
      "text/html": [
       "<style>.container { width:90% !important; }</style>"
      ],
      "text/plain": [
       "<IPython.core.display.HTML object>"
      ]
     },
     "metadata": {},
     "output_type": "display_data"
    }
   ],
   "source": [
    "import matplotlib\n",
    "matplotlib.use('module://ipympl.backend_nbagg')\n",
    "\n",
    "from matplotlib import pyplot as plt\n",
    "plt.ion()\n",
    "\n",
    "import math\n",
    "import numpy as np\n",
    "import pickle\n",
    "import sys\n",
    "\n",
    "sys.path.append('..')\n",
    "import unzipping_simulation as uzsi\n",
    "from unzipping_simulation import kB\n",
    "\n",
    "sys.path.append('../../../cn_plot_style/')\n",
    "import cn_plot_style as cnps\n",
    "\n",
    "from IPython.core.display import display, HTML\n",
    "display(HTML(\"<style>.container { width:90% !important; }</style>\"))\n",
    "\n",
    "np.set_printoptions(precision=3)"
   ]
  },
  {
   "cell_type": "code",
   "execution_count": 12,
   "metadata": {},
   "outputs": [
    {
     "name": "stdout",
     "output_type": "stream",
     "text": [
      "dict_keys(['settings', 'E_ext_ssDNA', 'ext_dsDNA_wlc', 'XFE', 'XFE0'])\n",
      "dict_keys(['settings', 'E_ext_ssDNA', 'ext_dsDNA_wlc', 'XFE', 'XFE0'])\n",
      "dict_keys(['settings', 'E_ext_ssDNA', 'ext_dsDNA_wlc', 'XFE', 'XFE0'])\n",
      "dict_keys(['settings', 'E_ext_ssDNA', 'ext_dsDNA_wlc', 'XFE', 'XFE0'])\n",
      "dict_keys(['settings', 'E_ext_ssDNA', 'ext_dsDNA_wlc', 'XFE', 'XFE0'])\n",
      "dict_keys(['settings', 'E_ext_ssDNA', 'ext_dsDNA_wlc', 'XFE', 'XFE0'])\n",
      "dict_keys(['settings', 'E_ext_ssDNA', 'ext_dsDNA_wlc', 'XFE', 'XFE0'])\n",
      "dict_keys(['settings', 'E_ext_ssDNA', 'ext_dsDNA_wlc', 'XFE', 'XFE0'])\n",
      "dict_keys(['settings', 'E_ext_ssDNA', 'ext_dsDNA_wlc', 'XFE', 'XFE0'])\n",
      "dict_keys(['settings', 'E_ext_ssDNA', 'ext_dsDNA_wlc', 'XFE', 'XFE0'])\n",
      "dict_keys(['settings', 'E_ext_ssDNA', 'ext_dsDNA_wlc', 'XFE', 'XFE0'])\n",
      "dict_keys(['settings', 'E_ext_ssDNA', 'ext_dsDNA_wlc', 'XFE', 'XFE0'])\n",
      "dict_keys(['settings', 'E_ext_ssDNA', 'ext_dsDNA_wlc', 'XFE', 'XFE0'])\n",
      "dict_keys(['settings', 'E_ext_ssDNA', 'ext_dsDNA_wlc', 'XFE', 'XFE0'])\n",
      "dict_keys(['settings', 'E_ext_ssDNA', 'ext_dsDNA_wlc', 'XFE', 'XFE0'])\n",
      "dict_keys(['settings', 'E_ext_ssDNA', 'ext_dsDNA_wlc', 'XFE', 'XFE0'])\n",
      "dict_keys(['settings', 'E_ext_ssDNA', 'ext_dsDNA_wlc', 'XFE', 'XFE0'])\n",
      "dict_keys(['settings', 'E_ext_ssDNA', 'ext_dsDNA_wlc', 'XFE', 'XFE0'])\n",
      "dict_keys(['settings', 'E_ext_ssDNA', 'ext_dsDNA_wlc', 'XFE', 'XFE0'])\n",
      "dict_keys(['settings', 'E_ext_ssDNA', 'ext_dsDNA_wlc', 'XFE', 'XFE0'])\n",
      "dict_keys(['settings', 'E_ext_ssDNA', 'ext_dsDNA_wlc', 'XFE', 'XFE0'])\n",
      "dict_keys(['settings', 'E_ext_ssDNA', 'ext_dsDNA_wlc', 'XFE', 'XFE0'])\n",
      "dict_keys(['settings', 'E_ext_ssDNA', 'ext_dsDNA_wlc', 'XFE', 'XFE0'])\n",
      "dict_keys(['settings', 'E_ext_ssDNA', 'ext_dsDNA_wlc', 'XFE', 'XFE0'])\n",
      "dict_keys(['settings', 'E_ext_ssDNA', 'ext_dsDNA_wlc', 'XFE', 'XFE0'])\n",
      "dict_keys(['settings', 'E_ext_ssDNA', 'ext_dsDNA_wlc', 'XFE', 'XFE0'])\n",
      "dict_keys(['settings', 'E_ext_ssDNA', 'ext_dsDNA_wlc', 'XFE', 'XFE0'])\n",
      "dict_keys(['settings', 'E_ext_ssDNA', 'ext_dsDNA_wlc', 'XFE', 'XFE0'])\n",
      "dict_keys(['settings', 'E_ext_ssDNA', 'ext_dsDNA_wlc', 'XFE', 'XFE0'])\n",
      "dict_keys(['settings', 'E_ext_ssDNA', 'ext_dsDNA_wlc', 'XFE', 'XFE0'])\n",
      "dict_keys(['settings', 'E_ext_ssDNA', 'ext_dsDNA_wlc', 'XFE', 'XFE0'])\n",
      "dict_keys(['settings', 'E_ext_ssDNA', 'ext_dsDNA_wlc', 'XFE', 'XFE0'])\n",
      "dict_keys(['settings', 'E_ext_ssDNA', 'ext_dsDNA_wlc', 'XFE', 'XFE0'])\n",
      "dict_keys(['settings', 'E_ext_ssDNA', 'ext_dsDNA_wlc', 'XFE', 'XFE0'])\n",
      "dict_keys(['settings', 'E_ext_ssDNA', 'ext_dsDNA_wlc', 'XFE', 'XFE0'])\n",
      "dict_keys(['settings', 'E_ext_ssDNA', 'ext_dsDNA_wlc', 'XFE', 'XFE0'])\n",
      "dict_keys(['settings', 'E_ext_ssDNA', 'ext_dsDNA_wlc', 'XFE', 'XFE0'])\n"
     ]
    }
   ],
   "source": []
  },
  {
   "cell_type": "code",
   "execution_count": 13,
   "metadata": {},
   "outputs": [],
   "source": [
    "# compatibililty to load old results\n",
    "#_E_ext_ssDNA = uzsi.E_ext_ssDNA\n",
    "#EXT_DSDNA = uzsi.EXT_DSDNA\n",
    "#_ext_dsDNA_wlc = uzsi.ext_dsDNA_wlc\n",
    "#unboundfunction = uzsi.unboundfunction\n",
    "\n",
    "with open('simulations.p','rb') as f:\n",
    "    simulations = pickle.load(f)\n",
    "    \n",
    "#for key in simulations.keys():\n",
    "#    del simulations[key]['E_ext_ssDNA']\n",
    "#    del simulations[key]['ext_dsDNA_wlc']\n",
    "\n",
    "#with open('simulations.p','wb') as f:\n",
    "#    pickle.dump(simulations, f)"
   ]
  },
  {
   "cell_type": "code",
   "execution_count": 16,
   "metadata": {},
   "outputs": [
    {
     "data": {
      "application/vnd.jupyter.widget-view+json": {
       "model_id": "0cb797bd54f543f287fd0040d78187f8",
       "version_major": 2,
       "version_minor": 0
      },
      "text/plain": [
       "FigureCanvasNbAgg()"
      ]
     },
     "metadata": {},
     "output_type": "display_data"
    },
    {
     "data": {
      "application/vnd.jupyter.widget-view+json": {
       "model_id": "2b7c90a7a5f44ad1934afe980d9e1b78",
       "version_major": 2,
       "version_minor": 0
      },
      "text/plain": [
       "FigureCanvasNbAgg()"
      ]
     },
     "metadata": {},
     "output_type": "display_data"
    },
    {
     "data": {
      "application/vnd.jupyter.widget-view+json": {
       "model_id": "552f50268b694a72b4029d5cbd2ad076",
       "version_major": 2,
       "version_minor": 0
      },
      "text/plain": [
       "FigureCanvasNbAgg()"
      ]
     },
     "metadata": {},
     "output_type": "display_data"
    },
    {
     "data": {
      "application/vnd.jupyter.widget-view+json": {
       "model_id": "09044639e39a48b7a0b7a78828d5067c",
       "version_major": 2,
       "version_minor": 0
      },
      "text/plain": [
       "FigureCanvasNbAgg()"
      ]
     },
     "metadata": {},
     "output_type": "display_data"
    },
    {
     "data": {
      "application/vnd.jupyter.widget-view+json": {
       "model_id": "60b4105ec70d4a41a046b01ec99e0911",
       "version_major": 2,
       "version_minor": 0
      },
      "text/plain": [
       "FigureCanvasNbAgg()"
      ]
     },
     "metadata": {},
     "output_type": "display_data"
    },
    {
     "data": {
      "application/vnd.jupyter.widget-view+json": {
       "model_id": "5e2f06eefebd4d7d86e39091e5e69baf",
       "version_major": 2,
       "version_minor": 0
      },
      "text/plain": [
       "FigureCanvasNbAgg()"
      ]
     },
     "metadata": {},
     "output_type": "display_data"
    },
    {
     "data": {
      "application/vnd.jupyter.widget-view+json": {
       "model_id": "70879754256c438fadfa455aeda78c51",
       "version_major": 2,
       "version_minor": 0
      },
      "text/plain": [
       "FigureCanvasNbAgg()"
      ]
     },
     "metadata": {},
     "output_type": "display_data"
    },
    {
     "data": {
      "application/vnd.jupyter.widget-view+json": {
       "model_id": "34f22ad361474d779e46de03e2eb76a5",
       "version_major": 2,
       "version_minor": 0
      },
      "text/plain": [
       "FigureCanvasNbAgg()"
      ]
     },
     "metadata": {},
     "output_type": "display_data"
    },
    {
     "data": {
      "application/vnd.jupyter.widget-view+json": {
       "model_id": "6be9adcf09304d6e95aa9ef9452de958",
       "version_major": 2,
       "version_minor": 0
      },
      "text/plain": [
       "FigureCanvasNbAgg()"
      ]
     },
     "metadata": {},
     "output_type": "display_data"
    },
    {
     "data": {
      "application/vnd.jupyter.widget-view+json": {
       "model_id": "179cfc057bd84e0b89cbda24ca2caac6",
       "version_major": 2,
       "version_minor": 0
      },
      "text/plain": [
       "FigureCanvasNbAgg()"
      ]
     },
     "metadata": {},
     "output_type": "display_data"
    },
    {
     "data": {
      "application/vnd.jupyter.widget-view+json": {
       "model_id": "e0c04e9844de48d3bf308296e9851a78",
       "version_major": 2,
       "version_minor": 0
      },
      "text/plain": [
       "FigureCanvasNbAgg()"
      ]
     },
     "metadata": {},
     "output_type": "display_data"
    },
    {
     "data": {
      "application/vnd.jupyter.widget-view+json": {
       "model_id": "e6e8f03377754a8da18ba6ee8e14dfec",
       "version_major": 2,
       "version_minor": 0
      },
      "text/plain": [
       "FigureCanvasNbAgg()"
      ]
     },
     "metadata": {},
     "output_type": "display_data"
    },
    {
     "data": {
      "application/vnd.jupyter.widget-view+json": {
       "model_id": "90cab3e423894fe1b6935ee4d95f66dd",
       "version_major": 2,
       "version_minor": 0
      },
      "text/plain": [
       "FigureCanvasNbAgg()"
      ]
     },
     "metadata": {},
     "output_type": "display_data"
    },
    {
     "data": {
      "application/vnd.jupyter.widget-view+json": {
       "model_id": "6fe76e4c2427457180d9e6d7a4dd5c76",
       "version_major": 2,
       "version_minor": 0
      },
      "text/plain": [
       "FigureCanvasNbAgg()"
      ]
     },
     "metadata": {},
     "output_type": "display_data"
    },
    {
     "data": {
      "application/vnd.jupyter.widget-view+json": {
       "model_id": "911572a855fd4d5d84f0dd8e7bcfd2d9",
       "version_major": 2,
       "version_minor": 0
      },
      "text/plain": [
       "FigureCanvasNbAgg()"
      ]
     },
     "metadata": {},
     "output_type": "display_data"
    },
    {
     "data": {
      "application/vnd.jupyter.widget-view+json": {
       "model_id": "130cf765ad434aa2811a3a2bd4f101b4",
       "version_major": 2,
       "version_minor": 0
      },
      "text/plain": [
       "FigureCanvasNbAgg()"
      ]
     },
     "metadata": {},
     "output_type": "display_data"
    },
    {
     "data": {
      "application/vnd.jupyter.widget-view+json": {
       "model_id": "fda776b4d1bc44a29eb5aded3ec647f6",
       "version_major": 2,
       "version_minor": 0
      },
      "text/plain": [
       "FigureCanvasNbAgg()"
      ]
     },
     "metadata": {},
     "output_type": "display_data"
    },
    {
     "data": {
      "application/vnd.jupyter.widget-view+json": {
       "model_id": "2772a7a50b38475fae823073e986e518",
       "version_major": 2,
       "version_minor": 0
      },
      "text/plain": [
       "FigureCanvasNbAgg()"
      ]
     },
     "metadata": {},
     "output_type": "display_data"
    },
    {
     "data": {
      "application/vnd.jupyter.widget-view+json": {
       "model_id": "dd85905a024545c6b03badc8756c45dc",
       "version_major": 2,
       "version_minor": 0
      },
      "text/plain": [
       "FigureCanvasNbAgg()"
      ]
     },
     "metadata": {},
     "output_type": "display_data"
    },
    {
     "name": "stderr",
     "output_type": "stream",
     "text": [
      "/usr/local/lib/python3.7/dist-packages/matplotlib/pyplot.py:514: RuntimeWarning: More than 20 figures have been opened. Figures created through the pyplot interface (`matplotlib.pyplot.figure`) are retained until explicitly closed and may consume too much memory. (To control this warning, see the rcParam `figure.max_open_warning`).\n",
      "  max_open_warning, RuntimeWarning)\n"
     ]
    },
    {
     "data": {
      "application/vnd.jupyter.widget-view+json": {
       "model_id": "6ef5afb116db4ed092cfe729a7443e7d",
       "version_major": 2,
       "version_minor": 0
      },
      "text/plain": [
       "FigureCanvasNbAgg()"
      ]
     },
     "metadata": {},
     "output_type": "display_data"
    },
    {
     "name": "stderr",
     "output_type": "stream",
     "text": [
      "/usr/local/lib/python3.7/dist-packages/matplotlib/pyplot.py:514: RuntimeWarning: More than 20 figures have been opened. Figures created through the pyplot interface (`matplotlib.pyplot.figure`) are retained until explicitly closed and may consume too much memory. (To control this warning, see the rcParam `figure.max_open_warning`).\n",
      "  max_open_warning, RuntimeWarning)\n"
     ]
    },
    {
     "data": {
      "application/vnd.jupyter.widget-view+json": {
       "model_id": "dda92551213040a9931765ce5ce1146c",
       "version_major": 2,
       "version_minor": 0
      },
      "text/plain": [
       "FigureCanvasNbAgg()"
      ]
     },
     "metadata": {},
     "output_type": "display_data"
    },
    {
     "name": "stderr",
     "output_type": "stream",
     "text": [
      "/usr/local/lib/python3.7/dist-packages/matplotlib/pyplot.py:514: RuntimeWarning: More than 20 figures have been opened. Figures created through the pyplot interface (`matplotlib.pyplot.figure`) are retained until explicitly closed and may consume too much memory. (To control this warning, see the rcParam `figure.max_open_warning`).\n",
      "  max_open_warning, RuntimeWarning)\n"
     ]
    },
    {
     "data": {
      "application/vnd.jupyter.widget-view+json": {
       "model_id": "0f6a43ed79754aa082e9bef75cba522f",
       "version_major": 2,
       "version_minor": 0
      },
      "text/plain": [
       "FigureCanvasNbAgg()"
      ]
     },
     "metadata": {},
     "output_type": "display_data"
    },
    {
     "name": "stderr",
     "output_type": "stream",
     "text": [
      "/usr/local/lib/python3.7/dist-packages/matplotlib/pyplot.py:514: RuntimeWarning: More than 20 figures have been opened. Figures created through the pyplot interface (`matplotlib.pyplot.figure`) are retained until explicitly closed and may consume too much memory. (To control this warning, see the rcParam `figure.max_open_warning`).\n",
      "  max_open_warning, RuntimeWarning)\n"
     ]
    },
    {
     "data": {
      "application/vnd.jupyter.widget-view+json": {
       "model_id": "065334a9c0fe44c0bff9e0ed8c9e3a54",
       "version_major": 2,
       "version_minor": 0
      },
      "text/plain": [
       "FigureCanvasNbAgg()"
      ]
     },
     "metadata": {},
     "output_type": "display_data"
    },
    {
     "name": "stderr",
     "output_type": "stream",
     "text": [
      "/usr/local/lib/python3.7/dist-packages/matplotlib/pyplot.py:514: RuntimeWarning: More than 20 figures have been opened. Figures created through the pyplot interface (`matplotlib.pyplot.figure`) are retained until explicitly closed and may consume too much memory. (To control this warning, see the rcParam `figure.max_open_warning`).\n",
      "  max_open_warning, RuntimeWarning)\n"
     ]
    },
    {
     "data": {
      "application/vnd.jupyter.widget-view+json": {
       "model_id": "e3b7a992069849a3a1b68eb3c22f9f48",
       "version_major": 2,
       "version_minor": 0
      },
      "text/plain": [
       "FigureCanvasNbAgg()"
      ]
     },
     "metadata": {},
     "output_type": "display_data"
    },
    {
     "name": "stderr",
     "output_type": "stream",
     "text": [
      "/usr/local/lib/python3.7/dist-packages/matplotlib/pyplot.py:514: RuntimeWarning: More than 20 figures have been opened. Figures created through the pyplot interface (`matplotlib.pyplot.figure`) are retained until explicitly closed and may consume too much memory. (To control this warning, see the rcParam `figure.max_open_warning`).\n",
      "  max_open_warning, RuntimeWarning)\n"
     ]
    },
    {
     "data": {
      "application/vnd.jupyter.widget-view+json": {
       "model_id": "4584269e63cd45588e05cbf79811926b",
       "version_major": 2,
       "version_minor": 0
      },
      "text/plain": [
       "FigureCanvasNbAgg()"
      ]
     },
     "metadata": {},
     "output_type": "display_data"
    },
    {
     "name": "stderr",
     "output_type": "stream",
     "text": [
      "/usr/local/lib/python3.7/dist-packages/matplotlib/pyplot.py:514: RuntimeWarning: More than 20 figures have been opened. Figures created through the pyplot interface (`matplotlib.pyplot.figure`) are retained until explicitly closed and may consume too much memory. (To control this warning, see the rcParam `figure.max_open_warning`).\n",
      "  max_open_warning, RuntimeWarning)\n"
     ]
    },
    {
     "data": {
      "application/vnd.jupyter.widget-view+json": {
       "model_id": "df7c65e0511f45dd886aa3bf385b938c",
       "version_major": 2,
       "version_minor": 0
      },
      "text/plain": [
       "FigureCanvasNbAgg()"
      ]
     },
     "metadata": {},
     "output_type": "display_data"
    },
    {
     "name": "stderr",
     "output_type": "stream",
     "text": [
      "/usr/local/lib/python3.7/dist-packages/matplotlib/pyplot.py:514: RuntimeWarning: More than 20 figures have been opened. Figures created through the pyplot interface (`matplotlib.pyplot.figure`) are retained until explicitly closed and may consume too much memory. (To control this warning, see the rcParam `figure.max_open_warning`).\n",
      "  max_open_warning, RuntimeWarning)\n"
     ]
    },
    {
     "data": {
      "application/vnd.jupyter.widget-view+json": {
       "model_id": "538dc41ba7364a9e9d21eccb8e5881b8",
       "version_major": 2,
       "version_minor": 0
      },
      "text/plain": [
       "FigureCanvasNbAgg()"
      ]
     },
     "metadata": {},
     "output_type": "display_data"
    },
    {
     "name": "stderr",
     "output_type": "stream",
     "text": [
      "/usr/local/lib/python3.7/dist-packages/matplotlib/pyplot.py:514: RuntimeWarning: More than 20 figures have been opened. Figures created through the pyplot interface (`matplotlib.pyplot.figure`) are retained until explicitly closed and may consume too much memory. (To control this warning, see the rcParam `figure.max_open_warning`).\n",
      "  max_open_warning, RuntimeWarning)\n"
     ]
    },
    {
     "data": {
      "application/vnd.jupyter.widget-view+json": {
       "model_id": "54d603b800cf459d886aea37c8d6597a",
       "version_major": 2,
       "version_minor": 0
      },
      "text/plain": [
       "FigureCanvasNbAgg()"
      ]
     },
     "metadata": {},
     "output_type": "display_data"
    },
    {
     "name": "stderr",
     "output_type": "stream",
     "text": [
      "/usr/local/lib/python3.7/dist-packages/matplotlib/pyplot.py:514: RuntimeWarning: More than 20 figures have been opened. Figures created through the pyplot interface (`matplotlib.pyplot.figure`) are retained until explicitly closed and may consume too much memory. (To control this warning, see the rcParam `figure.max_open_warning`).\n",
      "  max_open_warning, RuntimeWarning)\n"
     ]
    },
    {
     "data": {
      "application/vnd.jupyter.widget-view+json": {
       "model_id": "f78e08dbdbe14348a9af7b735f99e6bf",
       "version_major": 2,
       "version_minor": 0
      },
      "text/plain": [
       "FigureCanvasNbAgg()"
      ]
     },
     "metadata": {},
     "output_type": "display_data"
    },
    {
     "name": "stderr",
     "output_type": "stream",
     "text": [
      "/usr/local/lib/python3.7/dist-packages/matplotlib/pyplot.py:514: RuntimeWarning: More than 20 figures have been opened. Figures created through the pyplot interface (`matplotlib.pyplot.figure`) are retained until explicitly closed and may consume too much memory. (To control this warning, see the rcParam `figure.max_open_warning`).\n",
      "  max_open_warning, RuntimeWarning)\n"
     ]
    },
    {
     "data": {
      "application/vnd.jupyter.widget-view+json": {
       "model_id": "2569dbb510eb45d4b4d1980ed2a6943d",
       "version_major": 2,
       "version_minor": 0
      },
      "text/plain": [
       "FigureCanvasNbAgg()"
      ]
     },
     "metadata": {},
     "output_type": "display_data"
    },
    {
     "name": "stderr",
     "output_type": "stream",
     "text": [
      "/usr/local/lib/python3.7/dist-packages/matplotlib/pyplot.py:514: RuntimeWarning: More than 20 figures have been opened. Figures created through the pyplot interface (`matplotlib.pyplot.figure`) are retained until explicitly closed and may consume too much memory. (To control this warning, see the rcParam `figure.max_open_warning`).\n",
      "  max_open_warning, RuntimeWarning)\n"
     ]
    },
    {
     "data": {
      "application/vnd.jupyter.widget-view+json": {
       "model_id": "6f220475d1c446b8b55cef2fee589a9b",
       "version_major": 2,
       "version_minor": 0
      },
      "text/plain": [
       "FigureCanvasNbAgg()"
      ]
     },
     "metadata": {},
     "output_type": "display_data"
    },
    {
     "name": "stderr",
     "output_type": "stream",
     "text": [
      "/usr/local/lib/python3.7/dist-packages/matplotlib/pyplot.py:514: RuntimeWarning: More than 20 figures have been opened. Figures created through the pyplot interface (`matplotlib.pyplot.figure`) are retained until explicitly closed and may consume too much memory. (To control this warning, see the rcParam `figure.max_open_warning`).\n",
      "  max_open_warning, RuntimeWarning)\n"
     ]
    },
    {
     "data": {
      "application/vnd.jupyter.widget-view+json": {
       "model_id": "1d56eee0b3ee4d8b9fff338b422c77f6",
       "version_major": 2,
       "version_minor": 0
      },
      "text/plain": [
       "FigureCanvasNbAgg()"
      ]
     },
     "metadata": {},
     "output_type": "display_data"
    },
    {
     "name": "stderr",
     "output_type": "stream",
     "text": [
      "/usr/local/lib/python3.7/dist-packages/matplotlib/pyplot.py:514: RuntimeWarning: More than 20 figures have been opened. Figures created through the pyplot interface (`matplotlib.pyplot.figure`) are retained until explicitly closed and may consume too much memory. (To control this warning, see the rcParam `figure.max_open_warning`).\n",
      "  max_open_warning, RuntimeWarning)\n"
     ]
    },
    {
     "data": {
      "application/vnd.jupyter.widget-view+json": {
       "model_id": "ddf3c8ef6e4343f598a27991b738b8e3",
       "version_major": 2,
       "version_minor": 0
      },
      "text/plain": [
       "FigureCanvasNbAgg()"
      ]
     },
     "metadata": {},
     "output_type": "display_data"
    },
    {
     "name": "stderr",
     "output_type": "stream",
     "text": [
      "/usr/local/lib/python3.7/dist-packages/matplotlib/pyplot.py:514: RuntimeWarning: More than 20 figures have been opened. Figures created through the pyplot interface (`matplotlib.pyplot.figure`) are retained until explicitly closed and may consume too much memory. (To control this warning, see the rcParam `figure.max_open_warning`).\n",
      "  max_open_warning, RuntimeWarning)\n"
     ]
    },
    {
     "data": {
      "application/vnd.jupyter.widget-view+json": {
       "model_id": "9fe20edc5bac4dfca0f1857d4997a195",
       "version_major": 2,
       "version_minor": 0
      },
      "text/plain": [
       "FigureCanvasNbAgg()"
      ]
     },
     "metadata": {},
     "output_type": "display_data"
    },
    {
     "name": "stderr",
     "output_type": "stream",
     "text": [
      "/usr/local/lib/python3.7/dist-packages/matplotlib/pyplot.py:514: RuntimeWarning: More than 20 figures have been opened. Figures created through the pyplot interface (`matplotlib.pyplot.figure`) are retained until explicitly closed and may consume too much memory. (To control this warning, see the rcParam `figure.max_open_warning`).\n",
      "  max_open_warning, RuntimeWarning)\n"
     ]
    },
    {
     "data": {
      "application/vnd.jupyter.widget-view+json": {
       "model_id": "2708d775c8354cee98238dbcac2ed4f3",
       "version_major": 2,
       "version_minor": 0
      },
      "text/plain": [
       "FigureCanvasNbAgg()"
      ]
     },
     "metadata": {},
     "output_type": "display_data"
    },
    {
     "name": "stderr",
     "output_type": "stream",
     "text": [
      "/usr/local/lib/python3.7/dist-packages/matplotlib/pyplot.py:514: RuntimeWarning: More than 20 figures have been opened. Figures created through the pyplot interface (`matplotlib.pyplot.figure`) are retained until explicitly closed and may consume too much memory. (To control this warning, see the rcParam `figure.max_open_warning`).\n",
      "  max_open_warning, RuntimeWarning)\n"
     ]
    },
    {
     "data": {
      "application/vnd.jupyter.widget-view+json": {
       "model_id": "238626e1b1ea4b939f7bf30094a7460f",
       "version_major": 2,
       "version_minor": 0
      },
      "text/plain": [
       "FigureCanvasNbAgg()"
      ]
     },
     "metadata": {},
     "output_type": "display_data"
    },
    {
     "name": "stderr",
     "output_type": "stream",
     "text": [
      "/usr/local/lib/python3.7/dist-packages/matplotlib/pyplot.py:514: RuntimeWarning: More than 20 figures have been opened. Figures created through the pyplot interface (`matplotlib.pyplot.figure`) are retained until explicitly closed and may consume too much memory. (To control this warning, see the rcParam `figure.max_open_warning`).\n",
      "  max_open_warning, RuntimeWarning)\n"
     ]
    },
    {
     "data": {
      "application/vnd.jupyter.widget-view+json": {
       "model_id": "da9ea9b5bca640cc88051a88423f4cf9",
       "version_major": 2,
       "version_minor": 0
      },
      "text/plain": [
       "FigureCanvasNbAgg()"
      ]
     },
     "metadata": {},
     "output_type": "display_data"
    }
   ],
   "source": [
    "np.set_printoptions(precision=2)\n",
    "\n",
    "#[(value['settings']['k_rot']*math.pi/180*1e12, value['settings']['angles_r0']*180/math.pi, key) for key, value in simulations.items()]\n",
    "for simulation in simulations.values():\n",
    "    # Set the unzipping construct parameters\n",
    "    bases = simulation['settings']['bases']\n",
    "    nbs = simulation['settings']['nbs']\n",
    "    nbp = simulation['settings']['nbp']\n",
    "    nbs_loop = simulation['settings']['nbs_loop']\n",
    "    S = simulation['settings']['S']\n",
    "    L_p_ssDNA = simulation['settings']['L_p_ssDNA']\n",
    "    z = simulation['settings']['z']\n",
    "    pitch = simulation['settings']['pitch']\n",
    "    L_p_dsDNA = simulation['settings']['L_p_dsDNA']\n",
    "\n",
    "    # Set other experimental parameters\n",
    "    radius = simulation['settings']['radius']\n",
    "    angles_r0 = simulation['settings']['angles_r0']\n",
    "    kappa = simulation['settings']['kappa']\n",
    "    k_rot = simulation['settings']['k_rot']\n",
    "    c = simulation['settings']['c']\n",
    "    T = simulation['settings']['T']\n",
    "\n",
    "    # Set parameters for the simulation\n",
    "    NNBP = simulation['settings']['NNBP']\n",
    "    x0_min = simulation['settings']['x0_min']\n",
    "    x0_max = simulation['settings']['x0_max']\n",
    "    h0 = simulation['settings']['h0']\n",
    "    y0 = simulation['settings']['y0']\n",
    "    resolution = simulation['settings']['resolution']\n",
    "    boltzmann_factor = simulation['settings']['boltzmann_factor']\n",
    "\n",
    "    # set variables of simulated data\n",
    "    XFE, XFE0 = simulation['XFE'], simulation['XFE0']\n",
    "\n",
    "    # assign variables to be plotted\n",
    "    # extension, number of unzipped basepairs, force\n",
    "    X = XFE['X']\n",
    "    X0 = XFE['A0'][:,0]\n",
    "    NUZ0_avg = XFE['NUZ0_avg']\n",
    "    NUZ0_max = XFE['NUZ0_max_W0']\n",
    "    EXT_APP_avg = XFE['EXT_APP_avg']\n",
    "    F0_avg = XFE['F0_avg']\n",
    "    F0d_avg = np.array([np.sqrt(((xfe0['D0_avg'] * kappa)**2).sum()) for xfe0 in XFE0])  # should be the same as:\n",
    "    #F0d_avg = np.array([(np.sqrt(((xfe0['D0'] * kappa)**2).sum(axis=1)) * xfe0['W0'] / xfe0['W0'].sum()).sum() for xfe0 in XFE0])\n",
    "    F0XYZ_avg = np.array([np.sqrt(((xfe0['D0_avg'] * kappa)**2)) for xfe0 in XFE0])\n",
    "    F0_max = XFE['F0_max_W0']\n",
    "    THETA_DIFF = XFE['DA0_avg'][:,0]\n",
    "\n",
    "    #for fignum in plt.get_fignums()[:-5]:\n",
    "    #    plt.close(fignum)\n",
    "\n",
    "    # scale the measured data\n",
    "    shift_x = 0\n",
    "    scale_x = 1\n",
    "    shift_F = 0\n",
    "    \n",
    "    plt.ion()\n",
    "\n",
    "    # select data which was properly fitted\n",
    "    if np.all(k_rot == 0):\n",
    "        idx_valid = (X != 0)\n",
    "    else:\n",
    "        idx_valid = np.logical_and(abs(THETA_DIFF) > 0*math.pi/180, abs(THETA_DIFF) < 45*math.pi/180)\n",
    "    fig, axes = plt.subplots(2,2)\n",
    "    \n",
    "    with cnps.cn_plot(context='presentation', fig_scale=1.0, dark=False, usetex=False) as cnp:\n",
    "        fig.suptitle('k_rot: {}, angles_r0: {}'.format(k_rot*1e12*math.pi/180, angles_r0*180/math.pi))\n",
    "        for i in range(len(I)):\n",
    "            ax = axes[0][i]\n",
    "            ax2 = cnps.second_ax(subplot_pos=(2,2,i+1), link_ax=ax, spines_ax=ax)\n",
    "\n",
    "            # Plot measured unzipping curve(s)\n",
    "            #for _x, _F, _FXYZ in zip(x, F, FXYZ):\n",
    "        #    ax.plot(x[i] * scale_x + shift_x, F[i] + shift_F)\n",
    "            #ax.plot(x[i] * scale_x + shift_x, np.abs(FXYZ[i]))\n",
    "\n",
    "            # Plot simulated unzipping curve\n",
    "            ax.plot(X[idx_valid]*1e9, F0_avg[idx_valid]*1e12, '.', label='Force construct')\n",
    "            ax.plot(EXT_APP_avg[idx_valid]*1e9, F0d_avg[idx_valid]*1e12, label='Force bead')\n",
    "            #ax.plot(EXT_APP_avg[idx_valid]*1e9, (F0_avg[idx_valid] - F0d_avg[idx_valid])*1e12, label='Force difference')\n",
    "            #ax.plot(X*1e9, F0XYZ_avg*1e12)\n",
    "            #ax.plot(X*1e9, F0_max*1e12)\n",
    "\n",
    "            # Plot number of simulated unzipped basepairs\n",
    "            #ax2.plot(EXT_APP_avg*1e9, NUZ0_avg)\n",
    "            ax2.plot(EXT_APP_avg[idx_valid]*1e9, THETA_DIFF[idx_valid]*180/math.pi)\n",
    "\n",
    "            ax.grid(True)\n",
    "\n",
    "            #ax.set_xlim((float(X.min()*1e9), float(X.max()*1e9)))\n",
    "            #ax2.set_xlim((float(X0.min()*1e9), float(X0.max()*1e9)))\n",
    "\n",
    "            ax.set_xlabel('(Apparent) extension of the construct (nm)')\n",
    "            ax.set_ylabel('Force (pN)')\n",
    "            #ax2.set_xlabel('Horizontal position of the stage (nm)')\n",
    "            ax2.set_ylabel('Angle theta difference (°)')\n",
    "            \n",
    "            ax.set_ylim((-1, 18))\n",
    "        for i in range(len(I)):\n",
    "            ax = axes[1][i]\n",
    "            ax2 = cnps.second_ax(subplot_pos=(2,2,i+3), link_ax=ax, spines_ax=ax)\n",
    "            #ax2 = plt.twinx(ax=ax)\n",
    "            #ax2.xaxis.set_visible(False)\n",
    "\n",
    "            # Plot measured unzipping curve(s)\n",
    "            #for _x, _F, _FXYZ in zip(x, F, FXYZ):\n",
    "            #ax.plot(_x * scale_x + shift_x, _F + shift_F)\n",
    "      #      ax.plot(x[i] * scale_x + shift_x, np.abs(FXYZ[i]))\n",
    "\n",
    "            # Plot simulated unzipping curve\n",
    "            #ax.plot(X*1e9, F0d_avg*1e12, label='Force construct')\n",
    "            #ax.plot(X*1e9, (F0_avg - F0d_avg)*1e12, label='Force difference')\n",
    "            ax.plot(EXT_APP_avg[idx_valid]*1e9, F0XYZ_avg[idx_valid]*1e12)\n",
    "            #ax.plot(X*1e9, F0_max*1e12)\n",
    "\n",
    "            # Plot number of simulated unzipped basepairs\n",
    "            ax2.plot(EXT_APP_avg[idx_valid]*1e9, NUZ0_avg[idx_valid])\n",
    "\n",
    "            ax.grid(True)\n",
    "\n",
    "            #ax.set_xlim((float(X.min()*1e9), float(X.max()*1e9)))\n",
    "            #ax2.set_xlim((float(X0.min()*1e9), float(X0.max()*1e9)))\n",
    "\n",
    "            ax.set_xlabel('Apparent extension of the construct (nm)')\n",
    "            ax.set_ylabel('Force (pN)')\n",
    "            #ax2.set_xlabel('Horizontal position of the stage (nm)')\n",
    "            ax2.set_ylabel('Number of unzipped basepairs')\n",
    "            \n",
    "            ax.set_ylim((-1, 18))\n",
    "        #fig.savefig('results_r_opp/k_rot_{:04.2f}_{:04.2f}_angles_r0_{:03.0f}_{:03.0f}.pdf'.format(k_rot[0]*1e12*math.pi/180, k_rot[1]*1e12*math.pi/180, angles_r0[0]*180/math.pi, angles_r0[1]*180/math.pi))\n",
    "        #fig.clear()"
   ]
  },
  {
   "cell_type": "code",
   "execution_count": 8,
   "metadata": {},
   "outputs": [
    {
     "data": {
      "application/vnd.jupyter.widget-view+json": {
       "model_id": "bceb9e64b2b64253ba7252f7513ddbb4",
       "version_major": 2,
       "version_minor": 0
      },
      "text/plain": [
       "FigureCanvasNbAgg()"
      ]
     },
     "metadata": {},
     "output_type": "display_data"
    },
    {
     "ename": "NameError",
     "evalue": "name 'x' is not defined",
     "output_type": "error",
     "traceback": [
      "\u001b[0;31m---------------------------------------------------------------------------\u001b[0m",
      "\u001b[0;31mNameError\u001b[0m                                 Traceback (most recent call last)",
      "\u001b[0;32m<ipython-input-8-2920e46a540f>\u001b[0m in \u001b[0;36m<module>\u001b[0;34m\u001b[0m\n\u001b[1;32m     46\u001b[0m         \u001b[0;31m# Plot measured unzipping curve(s)\u001b[0m\u001b[0;34m\u001b[0m\u001b[0;34m\u001b[0m\u001b[0;34m\u001b[0m\u001b[0m\n\u001b[1;32m     47\u001b[0m         \u001b[0;31m#for _x, _F, _FXYZ in zip(x, F, FXYZ):\u001b[0m\u001b[0;34m\u001b[0m\u001b[0;34m\u001b[0m\u001b[0;34m\u001b[0m\u001b[0m\n\u001b[0;32m---> 48\u001b[0;31m         \u001b[0max\u001b[0m\u001b[0;34m.\u001b[0m\u001b[0mplot\u001b[0m\u001b[0;34m(\u001b[0m\u001b[0mx\u001b[0m\u001b[0;34m[\u001b[0m\u001b[0mi\u001b[0m\u001b[0;34m]\u001b[0m \u001b[0;34m*\u001b[0m \u001b[0mscale_x\u001b[0m \u001b[0;34m+\u001b[0m \u001b[0mshift_x\u001b[0m\u001b[0;34m,\u001b[0m \u001b[0mF\u001b[0m\u001b[0;34m[\u001b[0m\u001b[0mi\u001b[0m\u001b[0;34m]\u001b[0m \u001b[0;34m+\u001b[0m \u001b[0mshift_F\u001b[0m\u001b[0;34m)\u001b[0m\u001b[0;34m\u001b[0m\u001b[0;34m\u001b[0m\u001b[0m\n\u001b[0m\u001b[1;32m     49\u001b[0m         \u001b[0;31m#ax.plot(x[i] * scale_x + shift_x, np.abs(FXYZ[i]))\u001b[0m\u001b[0;34m\u001b[0m\u001b[0;34m\u001b[0m\u001b[0;34m\u001b[0m\u001b[0m\n\u001b[1;32m     50\u001b[0m \u001b[0;34m\u001b[0m\u001b[0m\n",
      "\u001b[0;31mNameError\u001b[0m: name 'x' is not defined"
     ]
    }
   ],
   "source": [
    "#with open('simulations.p','rb') as f:\n",
    "#    simulation = pickle.load(f)\n",
    "#key = get_key(x0_min, x0_max, y0=y0, h0=h0, resolution=resolution,\n",
    "#              bases=bases, nbs=nbs, nbp=nbp, nbs_loop=nbs_loop,\n",
    "#              radius=radius, angles_r0=angles_r0, kappa=kappa, k_rot=k_rot,\n",
    "#              S=S, L_p_ssDNA=L_p_ssDNA, z=z,\n",
    "#              pitch=pitch, L_p_dsDNA=L_p_dsDNA,\n",
    "#              NNBP=NNBP, c=c, T=T,\n",
    "#              boltzmann_factor=boltzmann_factor)\n",
    "#simulation = simulations[key]\n",
    "\n",
    "with open('simulation.p','rb') as f:\n",
    "    simulation = pickle.load(f)\n",
    "    \n",
    "XFE = simulation['XFE']\n",
    "XFE0 = simulation['XFE0']\n",
    "\n",
    "# assign variables to be plotted\n",
    "# extension, number of unzipped basepairs, force\n",
    "X = XFE['X']\n",
    "X0 = XFE['A0'][0]\n",
    "NUZ0_avg = XFE['NUZ0_avg']\n",
    "NUZ0_max = XFE['NUZ0_max_W0']\n",
    "EXT_APP_avg = XFE['EXT_APP_avg']\n",
    "# Force acting on the DNA\n",
    "F0_avg = XFE['F0_avg']\n",
    "F0_max = XFE['F0_max_W0']\n",
    "# Force acting on the bead\n",
    "F0d_avg = np.array([np.sqrt(((xfe0['D0_avg'] * kappa)**2).sum()) for xfe0 in XFE0])  # should be the same as:\n",
    "#F0d_avg = np.array([(np.sqrt(((xfe0['D0'] * kappa)**2).sum(axis=1)) * xfe0['W0'] / xfe0['W0'].sum()).sum() for xfe0 in XFE0])\n",
    "F0XYZ_avg = np.array([np.sqrt(((xfe0['D0_avg'] * kappa)**2)) for xfe0 in XFE0])\n",
    "THETA_DIFF = XFE['DA0_avg'][:,0]\n",
    "\n",
    "for fignum in plt.get_fignums()[:-5]:\n",
    "    plt.close(fignum)\n",
    "\n",
    "# scale the measured data\n",
    "shift_x = 0\n",
    "scale_x = 1\n",
    "shift_F = 0\n",
    "\n",
    "# select data which was properly fitted\n",
    "idx_valid = np.logical_and(abs(THETA_DIFF) > 0*math.pi/180, abs(THETA_DIFF) < 45*math.pi/180) \n",
    "\n",
    "with cnps.cn_plot(context='notebook', fig_scale=1.7, dark=False, usetex=False) as cnp:\n",
    "    \n",
    "    fig, axes = plt.subplots(2,2)\n",
    "    for i in range(len(I)):\n",
    "        ax = axes[0][i]\n",
    "        ax2 = cnps.second_ax(subplot_pos=(2,2,i+1), link_ax=ax, spines_ax=ax)\n",
    "\n",
    "        # Plot measured unzipping curve(s)\n",
    "        #for _x, _F, _FXYZ in zip(x, F, FXYZ):\n",
    "        ax.plot(x[i] * scale_x + shift_x, F[i] + shift_F)\n",
    "        #ax.plot(x[i] * scale_x + shift_x, np.abs(FXYZ[i]))\n",
    "\n",
    "        # Plot simulated unzipping curve\n",
    "        ax.plot(X[idx_valid]*1e9, F0_avg[idx_valid]*1e12, '.', label='Force construct')\n",
    "        ax.plot(EXT_APP_avg[idx_valid]*1e9, F0d_avg[idx_valid]*1e12, label='Force bead')\n",
    "        #ax.plot(EXT_APP_avg[idx_valid]*1e9, (F0_avg[idx_valid] - F0d_avg[idx_valid])*1e12, label='Force difference')\n",
    "        #ax.plot(X*1e9, F0XYZ_avg*1e12)\n",
    "        #ax.plot(X*1e9, F0_max*1e12)\n",
    "\n",
    "        # Plot number of simulated unzipped basepairs\n",
    "        #ax2.plot(EXT_APP_avg*1e9, NUZ0_avg)\n",
    "        ax2.plot(EXT_APP_avg[idx_valid]*1e9, THETA_DIFF[idx_valid]*180/math.pi)\n",
    "\n",
    "        ax.grid(True)\n",
    "\n",
    "        #ax.set_xlim((float(X.min()*1e9), float(X.max()*1e9)))\n",
    "        #ax2.set_xlim((float(X0.min()*1e9), float(X0.max()*1e9)))\n",
    "\n",
    "        ax.set_xlabel('(Apparent) extension of the construct (nm)')\n",
    "        ax.set_ylabel('Force (pN)')\n",
    "        #ax2.set_xlabel('Horizontal position of the stage (nm)')\n",
    "        ax2.set_ylabel('Angle theta difference (°)')\n",
    "    for i in range(len(I)):\n",
    "        ax = axes[1][i]\n",
    "        ax2 = cnps.second_ax(subplot_pos=(2,2,i+3), link_ax=ax, spines_ax=ax)\n",
    "        #ax2 = plt.twinx(ax=ax)\n",
    "        #ax2.xaxis.set_visible(False)\n",
    "\n",
    "        # Plot measured unzipping curve(s)\n",
    "        #for _x, _F, _FXYZ in zip(x, F, FXYZ):\n",
    "        #ax.plot(_x * scale_x + shift_x, _F + shift_F)\n",
    "        ax.plot(x[i] * scale_x + shift_x, np.abs(FXYZ[i]))\n",
    "\n",
    "        # Plot simulated unzipping curve\n",
    "        #ax.plot(X*1e9, F0d_avg*1e12, label='Force construct')\n",
    "        #ax.plot(X*1e9, (F0_avg - F0d_avg)*1e12, label='Force difference')\n",
    "        ax.plot(EXT_APP_avg[idx_valid]*1e9, F0XYZ_avg[idx_valid]*1e12)\n",
    "        #ax.plot(X*1e9, F0_max*1e12)\n",
    "\n",
    "        # Plot number of simulated unzipped basepairs\n",
    "        ax2.plot(EXT_APP_avg[idx_valid]*1e9, NUZ0_avg[idx_valid])\n",
    "\n",
    "        ax.grid(True)\n",
    "\n",
    "        #ax.set_xlim((float(X.min()*1e9), float(X.max()*1e9)))\n",
    "        #ax2.set_xlim((float(X0.min()*1e9), float(X0.max()*1e9)))\n",
    "\n",
    "        ax.set_xlabel('Apparent extension of the construct (nm)')\n",
    "        ax.set_ylabel('Force (pN)')\n",
    "        #ax2.set_xlabel('Horizontal position of the stage (nm)')\n",
    "        ax2.set_ylabel('Number of unzipped basepairs')\n",
    "#    fig.savefig('result.png')"
   ]
  },
  {
   "cell_type": "code",
   "execution_count": 15,
   "metadata": {},
   "outputs": [
    {
     "name": "stdout",
     "output_type": "stream",
     "text": [
      "PyOTI - the investigator package of the PyOTIC software\n",
      "Version: 0.12.13\n",
      "\n",
      "The actual working path is: '/home/tobias/ZMBP/ipython/notebooks/unzipping_simulation/unzipping_simulation/notebooks'\n",
      "Create experiment file:\n",
      "   '/home/tobias/ZMBP/ipython/data/ASWAD/unzipping/2015-03-12 - unzipping/data/B09.fs'\n",
      "Cannot open the experiment file!\n",
      " The file cannot be created!\n",
      " The original error message is: '[Errno 2] No such file or directory: '/home/tobias/ZMBP/ipython/data/ASWAD/unzipping/2015-03-12 - unzipping/data/B09.fs.lock''\n",
      "Experiment is closed!\n"
     ]
    },
    {
     "ename": "TypeError",
     "evalue": "Missing required argument: 'region'",
     "output_type": "error",
     "traceback": [
      "\u001b[0;31m---------------------------------------------------------------------------\u001b[0m",
      "\u001b[0;31mTypeError\u001b[0m                                 Traceback (most recent call last)",
      "\u001b[0;32m<ipython-input-15-8e504fe22a98>\u001b[0m in \u001b[0;36m<module>\u001b[0;34m\u001b[0m\n\u001b[1;32m     31\u001b[0m \u001b[0;34m\u001b[0m\u001b[0m\n\u001b[1;32m     32\u001b[0m \u001b[0;31m# Create Result objects to obtain force and extension\u001b[0m\u001b[0;34m\u001b[0m\u001b[0;34m\u001b[0m\u001b[0;34m\u001b[0m\u001b[0m\n\u001b[0;32m---> 33\u001b[0;31m \u001b[0mtether\u001b[0m \u001b[0;34m=\u001b[0m \u001b[0mpyoti\u001b[0m\u001b[0;34m.\u001b[0m\u001b[0mcreate_tether\u001b[0m\u001b[0;34m(\u001b[0m\u001b[0mregion\u001b[0m\u001b[0;34m=\u001b[0m\u001b[0mresults_region\u001b[0m\u001b[0;34m,\u001b[0m \u001b[0mresolution\u001b[0m\u001b[0;34m=\u001b[0m\u001b[0mresolution\u001b[0m\u001b[0;34m)\u001b[0m\u001b[0;34m\u001b[0m\u001b[0;34m\u001b[0m\u001b[0m\n\u001b[0m\u001b[1;32m     34\u001b[0m \u001b[0;34m\u001b[0m\u001b[0m\n\u001b[1;32m     35\u001b[0m \u001b[0;31m# Show the autodetected minima, maxima and sections\u001b[0m\u001b[0;34m\u001b[0m\u001b[0;34m\u001b[0m\u001b[0;34m\u001b[0m\u001b[0m\n",
      "\u001b[0;32m/usr/local/lib/python3.7/dist-packages/pyoti/__init__.py\u001b[0m in \u001b[0;36mcreate_tether\u001b[0;34m(**kwargs)\u001b[0m\n\u001b[1;32m    121\u001b[0m     \u001b[0mCreate\u001b[0m \u001b[0ma\u001b[0m \u001b[0mTether\u001b[0m \u001b[0mobject\u001b[0m\u001b[0;34m.\u001b[0m\u001b[0;34m\u001b[0m\u001b[0;34m\u001b[0m\u001b[0m\n\u001b[1;32m    122\u001b[0m     \"\"\"\n\u001b[0;32m--> 123\u001b[0;31m     \u001b[0;32mreturn\u001b[0m \u001b[0mev\u001b[0m\u001b[0;34m.\u001b[0m\u001b[0mTether\u001b[0m\u001b[0;34m(\u001b[0m\u001b[0;34m**\u001b[0m\u001b[0mkwargs\u001b[0m\u001b[0;34m)\u001b[0m\u001b[0;34m\u001b[0m\u001b[0;34m\u001b[0m\u001b[0m\n\u001b[0m\u001b[1;32m    124\u001b[0m \u001b[0;34m\u001b[0m\u001b[0m\n\u001b[1;32m    125\u001b[0m \u001b[0;34m\u001b[0m\u001b[0m\n",
      "\u001b[0;32m/usr/local/lib/python3.7/dist-packages/pyoti/evaluate/tether.py\u001b[0m in \u001b[0;36m__init__\u001b[0;34m(self, region, calibration, resolution, filter_time, resolution_sf, filter_time_sf, **kwargs)\u001b[0m\n\u001b[1;32m     81\u001b[0m                          \u001b[0msf_class\u001b[0m\u001b[0;34m=\u001b[0m\u001b[0msf_class\u001b[0m\u001b[0;34m,\u001b[0m \u001b[0mtraces_sf\u001b[0m\u001b[0;34m=\u001b[0m\u001b[0mtraces_sf\u001b[0m\u001b[0;34m,\u001b[0m\u001b[0;34m\u001b[0m\u001b[0;34m\u001b[0m\u001b[0m\n\u001b[1;32m     82\u001b[0m                          \u001b[0mresolution_sf\u001b[0m\u001b[0;34m=\u001b[0m\u001b[0mresolution_sf\u001b[0m\u001b[0;34m,\u001b[0m\u001b[0;34m\u001b[0m\u001b[0;34m\u001b[0m\u001b[0m\n\u001b[0;32m---> 83\u001b[0;31m                          filter_time_sf=filter_time_sf)\n\u001b[0m\u001b[1;32m     84\u001b[0m \u001b[0;34m\u001b[0m\u001b[0m\n\u001b[1;32m     85\u001b[0m         \u001b[0mself\u001b[0m\u001b[0;34m.\u001b[0m\u001b[0mfe_figure\u001b[0m \u001b[0;34m=\u001b[0m \u001b[0;32mNone\u001b[0m\u001b[0;34m\u001b[0m\u001b[0;34m\u001b[0m\u001b[0m\n",
      "\u001b[0;32m/usr/local/lib/python3.7/dist-packages/pyoti/evaluate/evaluate.py\u001b[0m in \u001b[0;36m__init__\u001b[0;34m(self, region, calibration, resolution, filter_time, sf_class, traces_sf, resolution_sf, filter_time_sf, **kwargs)\u001b[0m\n\u001b[1;32m    123\u001b[0m \u001b[0;34m\u001b[0m\u001b[0m\n\u001b[1;32m    124\u001b[0m         \u001b[0mself\u001b[0m\u001b[0;34m.\u001b[0m\u001b[0mtraces_sf\u001b[0m \u001b[0;34m=\u001b[0m \u001b[0mtraces_sf\u001b[0m\u001b[0;34m\u001b[0m\u001b[0;34m\u001b[0m\u001b[0m\n\u001b[0;32m--> 125\u001b[0;31m         \u001b[0mself\u001b[0m\u001b[0;34m.\u001b[0m\u001b[0mregion\u001b[0m \u001b[0;34m=\u001b[0m \u001b[0mregion\u001b[0m  \u001b[0;31m# implicitly calls self.update()\u001b[0m\u001b[0;34m\u001b[0m\u001b[0;34m\u001b[0m\u001b[0m\n\u001b[0m\u001b[1;32m    126\u001b[0m \u001b[0;34m\u001b[0m\u001b[0m\n\u001b[1;32m    127\u001b[0m         \u001b[0mself\u001b[0m\u001b[0;34m.\u001b[0m\u001b[0mcalibration\u001b[0m \u001b[0;34m=\u001b[0m \u001b[0mcalibration\u001b[0m\u001b[0;34m\u001b[0m\u001b[0;34m\u001b[0m\u001b[0m\n",
      "\u001b[0;32m/usr/local/lib/python3.7/dist-packages/pyoti/evaluate/evaluate.py\u001b[0m in \u001b[0;36mregion\u001b[0;34m(self, region)\u001b[0m\n\u001b[1;32m    332\u001b[0m     \u001b[0;32mdef\u001b[0m \u001b[0mregion\u001b[0m\u001b[0;34m(\u001b[0m\u001b[0mself\u001b[0m\u001b[0;34m,\u001b[0m \u001b[0mregion\u001b[0m\u001b[0;34m)\u001b[0m\u001b[0;34m:\u001b[0m\u001b[0;34m\u001b[0m\u001b[0;34m\u001b[0m\u001b[0m\n\u001b[1;32m    333\u001b[0m         \u001b[0;32mif\u001b[0m \u001b[0mregion\u001b[0m \u001b[0;32mis\u001b[0m \u001b[0;32mNone\u001b[0m\u001b[0;34m:\u001b[0m\u001b[0;34m\u001b[0m\u001b[0;34m\u001b[0m\u001b[0m\n\u001b[0;32m--> 334\u001b[0;31m             \u001b[0;32mraise\u001b[0m \u001b[0mTypeError\u001b[0m\u001b[0;34m(\u001b[0m\u001b[0;34m\"Missing required argument: 'region'\"\u001b[0m\u001b[0;34m)\u001b[0m\u001b[0;34m\u001b[0m\u001b[0;34m\u001b[0m\u001b[0m\n\u001b[0m\u001b[1;32m    335\u001b[0m         \u001b[0mself\u001b[0m\u001b[0;34m.\u001b[0m\u001b[0m_region\u001b[0m \u001b[0;34m=\u001b[0m \u001b[0mregion\u001b[0m\u001b[0;34m\u001b[0m\u001b[0;34m\u001b[0m\u001b[0m\n\u001b[1;32m    336\u001b[0m         \u001b[0mself\u001b[0m\u001b[0;34m.\u001b[0m\u001b[0mupdate\u001b[0m\u001b[0;34m(\u001b[0m\u001b[0;34m)\u001b[0m\u001b[0;34m\u001b[0m\u001b[0;34m\u001b[0m\u001b[0m\n",
      "\u001b[0;31mTypeError\u001b[0m: Missing required argument: 'region'"
     ]
    }
   ],
   "source": [
    "import os\n",
    "#Load investigator package\n",
    "import pyoti\n",
    "pyoti.info()\n",
    "\n",
    "#Create an experiment\n",
    "experiment = pyoti.create_experiment()\n",
    "# Choose the path, were the experiment should be created (or opened from)\n",
    "#\n",
    "# datadir: The path to where the experiment (and the data) are located\n",
    "# datafile: The name of the file that contains the data. Here it is only used to generate dbfile.\n",
    "#           The data is loaded further down upon creation of a Record.\n",
    "# dbfile: The name of the database file the experiment is saved to (or loaded from).\n",
    "datadir =  '../../../../data/ASWAD/unzipping/2015-03-12 - unzipping/data/'\n",
    "#datadir =  '../../../../data/ASWAD/unzipping/2017-08-01_03 - unzipping and biotin concentration/0.1 percent - unzipping and jumping in trap, l_2, l_4 plate/data/'\n",
    "datafile = 'B09.bin'\n",
    "\n",
    "# Choose pull_release pairs\n",
    "I = [0,1]\n",
    "\n",
    "# For the name of the experiment, exchange the extension '.bin' with '.fs'\n",
    "dbfile = os.path.join(datadir, datafile.replace('.bin', '.fs'))\n",
    "\n",
    "# Create/open the experiment dbfile\n",
    "experiment.open(dbfile)\n",
    "\n",
    "results_region = experiment.view('results')\n",
    "\n",
    "# Choose resolution for presentation of data (extension, force)\n",
    "resolution = 500  # points/s resolution\n",
    "\n",
    "# Create Result objects to obtain force and extension\n",
    "tether = pyoti.create_tether(region=results_region, resolution=resolution)\n",
    "\n",
    "# Show the autodetected minima, maxima and sections\n",
    "#tether._sf.highest_frequency=32\n",
    "#tether._sf.reduce_false_positives = True\n",
    "#tether._sf.compare_time = 0.025\n",
    "tether.update()\n",
    "#tether.init_rfig(legend=True)\n",
    "#tether.init_fe_fig()\n",
    "#tether.show_force_extension_plots(bps=1399, autolimit=False)\n",
    "    \n",
    "kappa_xyz = experiment.view.results.calibration.kappa()\n",
    "timevector = experiment.view.results.timevector\n",
    "posXYZ = experiment.view.results.positionXYZ\n",
    "\n",
    "# Select the unzipping pair number(s)\n",
    "x = []\n",
    "F = []\n",
    "FXYZ = []\n",
    "DISTXYZ = []\n",
    "axis = []\n",
    "for i in I:\n",
    "    _x, _F, _ax, *ignore = tether.force_extension_pair(i)\n",
    "    x.append(_x)\n",
    "    F.append(_F)\n",
    "    axis.append(_ax[0])\n",
    "\n",
    "    stress, release = tether.stress_release_pairs(i=i)\n",
    "    tether.calibration.kappa(posXYZ[:,2].mean())\n",
    "    # Get extension and force (in a fast way)\n",
    "    data = tether.get_data(traces=['psdXYZ', 'positionXYZ'], samples=stress[0])\n",
    "\n",
    "    psdXYZ = data[:, 0:3]\n",
    "    positionXYZ = data[:, 3:6]\n",
    "    positionXY = positionXYZ[:, 0:2]\n",
    "    positionZ = data[:, [5]]\n",
    "\n",
    "    displacementXYZ \\\n",
    "        = tether.calibration.displacement(psdXYZ, positionZ=positionZ)\n",
    "    distXYZ = pyoti.evaluate.tether.distanceXYZ(positionXYZ, displacementXYZ,\n",
    "                          tether.calibration.radius,\n",
    "                          tether.calibration.focalshift)\n",
    "    DISTXYZ.append(distXYZ*1e3)\n",
    "\n",
    "    dist = pyoti.evaluate.tether.distance(distXYZ, positionXY)\n",
    "    forceXY_Z = tether.calibration.force(displacementXYZ,\n",
    "                                       positionZ=positionZ)\n",
    "\n",
    "    fXYZ = pyoti.evaluate.tether.forceXYZ(forceXY_Z)\n",
    "    FXYZ.append(fXYZ*1e3)\n",
    "\n",
    "experiment.abort()\n",
    "experiment.close()"
   ]
  },
  {
   "cell_type": "code",
   "execution_count": 6,
   "metadata": {},
   "outputs": [
    {
     "data": {
      "application/vnd.jupyter.widget-view+json": {
       "model_id": "f05581734b584af18bbdbee56925d284",
       "version_major": 2,
       "version_minor": 0
      },
      "text/plain": [
       "FigureCanvasNbAgg()"
      ]
     },
     "metadata": {},
     "output_type": "display_data"
    },
    {
     "data": {
      "application/vnd.jupyter.widget-view+json": {
       "model_id": "931fb6cdcd9f40768195288f24b13d8b",
       "version_major": 2,
       "version_minor": 0
      },
      "text/plain": [
       "FigureCanvasNbAgg()"
      ]
     },
     "metadata": {},
     "output_type": "display_data"
    },
    {
     "data": {
      "text/plain": [
       "Text(0.5, 1.0, 'Phi')"
      ]
     },
     "execution_count": 6,
     "metadata": {},
     "output_type": "execute_result"
    }
   ],
   "source": [
    "#x[0], FXYZ[0]\n",
    "i = 1\n",
    "angles_E = np.array([cart2sph(*point)[1:] for point in DISTXYZ[i]])*180/math.pi\n",
    "#angles_E[:,1] -= 90\n",
    "angles_F = np.array([cart2sph(*point)[1:] for point in FXYZ[i]])*180/math.pi\n",
    "#angles_F[:,1] -= 90\n",
    "angles_diff = angles_E - angles_F\n",
    "plt.ion()\n",
    "fig, ax = plt.subplots()\n",
    "ax.plot(x[i], angles_E[:,0])\n",
    "ax.plot(x[i], angles_F[:,0])\n",
    "ax.plot(x[i], angles_diff[:,0])\n",
    "ax.set_xlabel('Apparent extension (nm)')\n",
    "ax.set_ylabel('Theta (°)')\n",
    "ax.set_title('Theta')\n",
    "fig, ax = plt.subplots()\n",
    "ax.plot(x[i], angles_E[:,1])\n",
    "ax.plot(x[i], angles_F[:,1])\n",
    "#ax.plot(x[i], angles_diff[:,1])\n",
    "ax.set_xlabel('Apparent extension (nm)')\n",
    "ax.set_ylabel('Phi (°)')\n",
    "ax.set_title('Phi')"
   ]
  }
 ],
 "metadata": {
  "kernelspec": {
   "display_name": "Python 3",
   "language": "python",
   "name": "python3"
  },
  "language_info": {
   "codemirror_mode": {
    "name": "ipython",
    "version": 3
   },
   "file_extension": ".py",
   "mimetype": "text/x-python",
   "name": "python",
   "nbconvert_exporter": "python",
   "pygments_lexer": "ipython3",
   "version": "3.7.2+"
  }
 },
 "nbformat": 4,
 "nbformat_minor": 2
}
