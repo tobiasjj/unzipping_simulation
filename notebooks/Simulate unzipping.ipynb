{
 "cells": [
  {
   "cell_type": "code",
   "execution_count": 1,
   "metadata": {},
   "outputs": [
    {
     "data": {
      "text/html": [
       "<style>.container { width:90% !important; }</style>"
      ],
      "text/plain": [
       "<IPython.core.display.HTML object>"
      ]
     },
     "metadata": {},
     "output_type": "display_data"
    }
   ],
   "source": [
    "import matplotlib\n",
    "matplotlib.use('module://ipympl.backend_nbagg')\n",
    "\n",
    "from matplotlib import pyplot as plt\n",
    "plt.ion()\n",
    "\n",
    "import math\n",
    "import numpy as np\n",
    "import pickle\n",
    "import sys\n",
    "\n",
    "sys.path.append('..')\n",
    "import unzipping_simulation as uzsi\n",
    "from unzipping_simulation import kB\n",
    "\n",
    "sys.path.append('../../../cn_plot_style/')\n",
    "import cn_plot_style as cnps\n",
    "\n",
    "from IPython.core.display import display, HTML\n",
    "display(HTML(\"<style>.container { width:90% !important; }</style>\"))\n",
    "\n",
    "np.set_printoptions(precision=3)"
   ]
  },
  {
   "cell_type": "code",
   "execution_count": null,
   "metadata": {},
   "outputs": [],
   "source": [
    "# Calculate unzipping for several k_rots and angles_r0\n",
    "K_rot_theta = np.linspace(0.05, 0.5, 10)*1e-12*180/math.pi\n",
    "Angles_r0_theta = np.linspace(90, 180, 10)*math.pi/180\n",
    "\n",
    "with open('simulation.p','rb') as f:\n",
    "    simulation = pickle.load(f)\n",
    "\n",
    "# Set the unzipping construct parameters\n",
    "bases = simulation['settings']['bases']\n",
    "nbs = simulation['settings']['nbs']\n",
    "nbp = simulation['settings']['nbp']\n",
    "nbs_loop = simulation['settings']['nbs_loop']\n",
    "S = simulation['settings']['S']\n",
    "L_p_ssDNA = simulation['settings']['L_p_ssDNA']\n",
    "z = simulation['settings']['z']\n",
    "pitch = simulation['settings']['pitch']\n",
    "L_p_dsDNA = simulation['settings']['L_p_dsDNA']\n",
    "\n",
    "# Set other experimental parameters\n",
    "radius = simulation['settings']['radius']\n",
    "angles_r0 = simulation['settings']['angles_r0']\n",
    "kappa = simulation['settings']['kappa']\n",
    "k_rot = simulation['settings']['k_rot']\n",
    "c = simulation['settings']['c']\n",
    "T = simulation['settings']['T']\n",
    "\n",
    "# Set parameters for the simulation\n",
    "NNBP = simulation['settings']['NNBP']\n",
    "x0_min = simulation['settings']['x0_min']\n",
    "x0_max = simulation['settings']['x0_max']\n",
    "h0 = simulation['settings']['h0']\n",
    "y0 = simulation['settings']['y0']\n",
    "resolution = simulation['settings']['resolution']\n",
    "boltzmann_factor = simulation['settings']['boltzmann_factor']\n",
    "\n",
    "import copy\n",
    "with open('simulations.p','rb') as f:\n",
    "    simulations = pickle.load(f)\n",
    "\n",
    "for k_rot_theta in K_rot_theta:\n",
    "    k_rot[0] = k_rot_theta\n",
    "    #simulation['settings']['k_rot'] = k_rot\n",
    "    for angles_r0_theta in Angles_r0_theta:\n",
    "        angles_r0[0] = angles_r0_theta\n",
    "        #simulation['settings']['angles_r0'] = angles_r0\n",
    "        hash_key = uzsi.get_key(x0_min, x0_max, y0=y0, h0=h0, resolution=resolution,\n",
    "                                bases=bases, nbs=nbs, nbp=nbp, nbs_loop=nbs_loop,\n",
    "                                radius=radius, angles_r0=angles_r0, kappa=kappa, k_rot=k_rot,\n",
    "                                S=S, L_p_ssDNA=L_p_ssDNA, z=z,\n",
    "                                pitch=pitch, L_p_dsDNA=L_p_dsDNA,\n",
    "                                NNBP=NNBP, c=c, T=T,\n",
    "                                boltzmann_factor=boltzmann_factor)\n",
    "\n",
    "        XFE, XFE0 = unzipping_force_energy_rot(x0_min, x0_max, y0=y0, h0=h0, resolution=resolution, processes=8,\n",
    "                                               bases=bases, nbs=nbs, nbp=nbp, nbs_loop=nbs_loop,\n",
    "                                               radius=radius, angles_r0=angles_r0, kappa=kappa, k_rot=k_rot,\n",
    "                                               S=S, L_p_ssDNA=L_p_ssDNA, z=z,\n",
    "                                               pitch=pitch, L_p_dsDNA=L_p_dsDNA,\n",
    "                                               NNBP=NNBP, c=c, T=T,\n",
    "                                               boltzmann_factor=boltzmann_factor,\n",
    "                                               individual_points=True)\n",
    "        simulation['XFE'] = XFE\n",
    "        simulation['XFE0'] = XFE0\n",
    "        simulations[hash_key] = copy.deepcopy(simulation)\n",
    "\n",
    "        # save simulations\n",
    "        with open('simulations.p','wb') as f:\n",
    "            pickle.dump(simulations, f)"
   ]
  },
  {
   "cell_type": "code",
   "execution_count": 2,
   "metadata": {
    "scrolled": true
   },
   "outputs": [
    {
     "name": "stdout",
     "output_type": "stream",
     "text": [
      "Calculating equilibrium for stage displacement x0 = 1.460e-06...\n",
      "Done, elapsed time: 131.5 s\n"
     ]
    }
   ],
   "source": [
    "with open('simulation.p','rb') as f:\n",
    "    simulation = pickle.load(f)\n",
    "\n",
    "# Set the unzipping construct parameters\n",
    "bases = simulation['settings']['bases']\n",
    "nbs = simulation['settings']['nbs']\n",
    "nbp = simulation['settings']['nbp']\n",
    "nbs_loop = simulation['settings']['nbs_loop']\n",
    "S = simulation['settings']['S']\n",
    "L_p_ssDNA = simulation['settings']['L_p_ssDNA']\n",
    "z = simulation['settings']['z']\n",
    "pitch = simulation['settings']['pitch']\n",
    "L_p_dsDNA = simulation['settings']['L_p_dsDNA']\n",
    "\n",
    "# Set other experimental parameters\n",
    "radius = simulation['settings']['radius']\n",
    "angles_r0 = simulation['settings']['angles_r0']\n",
    "kappa = simulation['settings']['kappa']\n",
    "k_rot = simulation['settings']['k_rot']\n",
    "c = simulation['settings']['c']\n",
    "T = simulation['settings']['T']\n",
    "\n",
    "# Set parameters for the simulation\n",
    "NNBP = simulation['settings']['NNBP']\n",
    "x0_min = simulation['settings']['x0_min']\n",
    "x0_max = simulation['settings']['x0_max']\n",
    "h0 = simulation['settings']['h0']\n",
    "y0 = simulation['settings']['y0']\n",
    "resolution = simulation['settings']['resolution']\n",
    "boltzmann_factor = simulation['settings']['boltzmann_factor']\n",
    "\n",
    "XFE, XFE0 = uzsi.unzipping_force_energy_rot(x0_min, x0_max, y0=y0, h0=h0, resolution=resolution, processes=8,\n",
    "                                            bases=bases, nbs=nbs, nbp=nbp, nbs_loop=nbs_loop,\n",
    "                                            radius=radius, angles_r0=angles_r0, kappa=kappa, k_rot=k_rot,\n",
    "                                            S=S, L_p_ssDNA=L_p_ssDNA, z=z,\n",
    "                                            pitch=pitch, L_p_dsDNA=L_p_dsDNA,\n",
    "                                            NNBP=NNBP, c=c, T=T,\n",
    "                                            boltzmann_factor=boltzmann_factor,\n",
    "                                            individual_points=True)\n",
    "simulation['XFE'] = XFE\n",
    "simulation['XFE0'] = XFE0\n",
    "\n",
    "# save simulation\n",
    "with open('simulation.p','wb') as f:\n",
    "    pickle.dump(simulation, f)"
   ]
  },
  {
   "cell_type": "code",
   "execution_count": null,
   "metadata": {},
   "outputs": [],
   "source": []
  }
 ],
 "metadata": {
  "kernelspec": {
   "display_name": "Python 3",
   "language": "python",
   "name": "python3"
  },
  "language_info": {
   "codemirror_mode": {
    "name": "ipython",
    "version": 3
   },
   "file_extension": ".py",
   "mimetype": "text/x-python",
   "name": "python",
   "nbconvert_exporter": "python",
   "pygments_lexer": "ipython3",
   "version": "3.7.2+"
  }
 },
 "nbformat": 4,
 "nbformat_minor": 2
}
