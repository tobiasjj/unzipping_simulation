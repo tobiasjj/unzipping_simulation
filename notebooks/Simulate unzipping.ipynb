{
 "cells": [
  {
   "cell_type": "code",
   "execution_count": 1,
   "metadata": {},
   "outputs": [
    {
     "data": {
      "text/html": [
       "<style>.container { width:90% !important; }</style>"
      ],
      "text/plain": [
       "<IPython.core.display.HTML object>"
      ]
     },
     "metadata": {},
     "output_type": "display_data"
    }
   ],
   "source": [
    "import matplotlib\n",
    "matplotlib.use('module://ipympl.backend_nbagg')\n",
    "\n",
    "import pickle\n",
    "import sys\n",
    "\n",
    "sys.path.append('..')\n",
    "import unzipping_simulation as uzsi\n",
    "kB = uzsi.kB\n",
    "\n",
    "sys.path.append('../../')\n",
    "import cn_plot_style as cnps\n",
    "\n",
    "from IPython.core.display import display, HTML\n",
    "display(HTML(\"<style>.container { width:90% !important; }</style>\"))"
   ]
  },
  {
   "cell_type": "code",
   "execution_count": 2,
   "metadata": {},
   "outputs": [],
   "source": [
    "settings_file = 'simulation_settings_2D_2019-04-05.p'\n",
    "\n",
    "#Select two axes of kappa for 2D simulation\n",
    "axes_kappa = [0, 2]\n",
    "simulation = uzsi.simulation_settings(settings_file)\n",
    "kappa = simulation['settings']['kappa'][axes_kappa]\n",
    "\n",
    "# Get/do simulation\n",
    "s = uzsi.get_unzipping_simulation(settings_file, kappa=kappa)"
   ]
  },
  {
   "cell_type": "code",
   "execution_count": 3,
   "metadata": {},
   "outputs": [],
   "source": [
    "with open('simulations.p','rb') as f:\n",
    "    simulations = pickle.load(f)"
   ]
  },
  {
   "cell_type": "code",
   "execution_count": 5,
   "metadata": {},
   "outputs": [
    {
     "data": {
      "text/plain": [
       "[['1544d1fa0d5e6c3c86854bcff2cf5548', 1.57e-07, array([0.00068, 0.00014])]]"
      ]
     },
     "execution_count": 5,
     "metadata": {},
     "output_type": "execute_result"
    }
   ],
   "source": [
    "[[key, simulation['settings']['h0'], simulation['settings']['kappa']] for key, simulation in simulations.items()]"
   ]
  }
 ],
 "metadata": {
  "kernelspec": {
   "display_name": "Python 3",
   "language": "python",
   "name": "python3"
  },
  "language_info": {
   "codemirror_mode": {
    "name": "ipython",
    "version": 3
   },
   "file_extension": ".py",
   "mimetype": "text/x-python",
   "name": "python",
   "nbconvert_exporter": "python",
   "pygments_lexer": "ipython3",
   "version": "3.7.3rc1"
  }
 },
 "nbformat": 4,
 "nbformat_minor": 2
}
